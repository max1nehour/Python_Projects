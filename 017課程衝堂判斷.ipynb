{
  "nbformat": 4,
  "nbformat_minor": 0,
  "metadata": {
    "colab": {
      "provenance": [],
      "authorship_tag": "ABX9TyOZT8bhgLa3k+YfndXeeMZF",
      "include_colab_link": true
    },
    "kernelspec": {
      "name": "python3",
      "display_name": "Python 3"
    },
    "language_info": {
      "name": "python"
    }
  },
  "cells": [
    {
      "cell_type": "markdown",
      "metadata": {
        "id": "view-in-github",
        "colab_type": "text"
      },
      "source": [
        "<a href=\"https://colab.research.google.com/github/max1nehour/Python_Projects/blob/main/017%E8%AA%B2%E7%A8%8B%E8%A1%9D%E5%A0%82%E5%88%A4%E6%96%B7.ipynb\" target=\"_parent\"><img src=\"https://colab.research.google.com/assets/colab-badge.svg\" alt=\"Open In Colab\"/></a>"
      ]
    },
    {
      "cell_type": "code",
      "execution_count": null,
      "metadata": {
        "colab": {
          "base_uri": "https://localhost:8080/"
        },
        "id": "hlupVTVHgHfi",
        "outputId": "5c659c29-1613-4d22-999b-4ee4a86a1116"
      },
      "outputs": [
        {
          "name": "stdout",
          "output_type": "stream",
          "text": [
            "4\n",
            "prog\n",
            "2\n",
            "3b\n",
            "4c\n",
            "bio\n",
            "2\n",
            "11\n",
            "3b\n",
            "math\n",
            "2\n",
            "11\n",
            "3b\n",
            "his\n",
            "1\n",
            "23\n"
          ]
        }
      ],
      "source": [
        "\n",
        "n = int(input())\n",
        "classList = []\n",
        "\n",
        "def timecount(hour):\n",
        "  subList =[]\n",
        "  subList.append(classname)\n",
        "  for i in range(hour):\n",
        "    time = str(input())\n",
        "    subList.append(time)\n",
        "  classList.append(subList)\n",
        "\n",
        "\n",
        "for i in range(n):\n",
        "    classname = str(input())\n",
        "    hour = int(input())\n",
        "    timecount(hour)\n"
      ]
    },
    {
      "cell_type": "code",
      "source": [
        "def inputError(x):\n",
        "  for i in range (len(x)):\n",
        "    for j in range(1,len(x[i])):\n",
        "      if int(x[i][j][0]) > 5 or int(x[i][j][0]) < 1:\n",
        "        #print(x[i][j])\n",
        "        return -1\n",
        "\n",
        "def collide(x):\n",
        "  count=0\n",
        "\n",
        "  for i in range (len(x)):\n",
        "    if i != (len(x)-1):\n",
        "      for j in range(1,len(x[i])):\n",
        "        for h in range(1,len(x)-1):\n",
        "          if (h+i)<=(len(x)-1):\n",
        "            for k in range (1,len(x[i+h])):\n",
        "\n",
        "              if x[i][j] == x[i+h][k]:\n",
        "                print(x[i][0],x[i+h][0],x[i][j], sep =',')\n",
        "                count+=1\n",
        "\n",
        "    elif i == (len(x)-1):#最後一個回去跟第一個比\n",
        "      for j in range(1,len(x[i])):\n",
        "        for k in range (1,len(x[0])):\n",
        "          if x[i][j] == x[0][k]:\n",
        "            print(x[0][0],x[i][0],x[i][j],sep=\",\")\n",
        "            count+=1\n",
        "\n",
        "  if count == 0:\n",
        "    print(\"correct\")\n",
        "\n",
        "if (inputError(classList)) == -1:\n",
        "  print(\"-1\")\n",
        "else:\n",
        "  collide(classList)"
      ],
      "metadata": {
        "colab": {
          "base_uri": "https://localhost:8080/",
          "height": 375
        },
        "id": "aXDkuk4njs2j",
        "outputId": "133fcaf9-07eb-4911-cefc-38fea80b9787"
      },
      "execution_count": null,
      "outputs": [
        {
          "output_type": "error",
          "ename": "ValueError",
          "evalue": "ignored",
          "traceback": [
            "\u001b[0;31m---------------------------------------------------------------------------\u001b[0m",
            "\u001b[0;31mValueError\u001b[0m                                Traceback (most recent call last)",
            "\u001b[0;32m<ipython-input-123-a6984e0232df>\u001b[0m in \u001b[0;36m<cell line: 32>\u001b[0;34m()\u001b[0m\n\u001b[1;32m     30\u001b[0m     \u001b[0mprint\u001b[0m\u001b[0;34m(\u001b[0m\u001b[0;34m\"correct\"\u001b[0m\u001b[0;34m)\u001b[0m\u001b[0;34m\u001b[0m\u001b[0;34m\u001b[0m\u001b[0m\n\u001b[1;32m     31\u001b[0m \u001b[0;34m\u001b[0m\u001b[0m\n\u001b[0;32m---> 32\u001b[0;31m \u001b[0;32mif\u001b[0m \u001b[0;34m(\u001b[0m\u001b[0minputError\u001b[0m\u001b[0;34m(\u001b[0m\u001b[0mclassList\u001b[0m\u001b[0;34m)\u001b[0m\u001b[0;34m)\u001b[0m \u001b[0;34m==\u001b[0m \u001b[0;34m-\u001b[0m\u001b[0;36m1\u001b[0m\u001b[0;34m:\u001b[0m\u001b[0;34m\u001b[0m\u001b[0;34m\u001b[0m\u001b[0m\n\u001b[0m\u001b[1;32m     33\u001b[0m   \u001b[0mprint\u001b[0m\u001b[0;34m(\u001b[0m\u001b[0;34m\"-1\"\u001b[0m\u001b[0;34m)\u001b[0m\u001b[0;34m\u001b[0m\u001b[0;34m\u001b[0m\u001b[0m\n\u001b[1;32m     34\u001b[0m \u001b[0;32melse\u001b[0m\u001b[0;34m:\u001b[0m\u001b[0;34m\u001b[0m\u001b[0;34m\u001b[0m\u001b[0m\n",
            "\u001b[0;32m<ipython-input-123-a6984e0232df>\u001b[0m in \u001b[0;36minputError\u001b[0;34m(x)\u001b[0m\n\u001b[1;32m      2\u001b[0m   \u001b[0;32mfor\u001b[0m \u001b[0mi\u001b[0m \u001b[0;32min\u001b[0m \u001b[0mrange\u001b[0m \u001b[0;34m(\u001b[0m\u001b[0mlen\u001b[0m\u001b[0;34m(\u001b[0m\u001b[0mx\u001b[0m\u001b[0;34m)\u001b[0m\u001b[0;34m)\u001b[0m\u001b[0;34m:\u001b[0m\u001b[0;34m\u001b[0m\u001b[0;34m\u001b[0m\u001b[0m\n\u001b[1;32m      3\u001b[0m     \u001b[0;32mfor\u001b[0m \u001b[0mj\u001b[0m \u001b[0;32min\u001b[0m \u001b[0mrange\u001b[0m\u001b[0;34m(\u001b[0m\u001b[0;36m1\u001b[0m\u001b[0;34m,\u001b[0m\u001b[0mlen\u001b[0m\u001b[0;34m(\u001b[0m\u001b[0mx\u001b[0m\u001b[0;34m[\u001b[0m\u001b[0mi\u001b[0m\u001b[0;34m]\u001b[0m\u001b[0;34m)\u001b[0m\u001b[0;34m)\u001b[0m\u001b[0;34m:\u001b[0m\u001b[0;34m\u001b[0m\u001b[0;34m\u001b[0m\u001b[0m\n\u001b[0;32m----> 4\u001b[0;31m       \u001b[0;32mif\u001b[0m \u001b[0mint\u001b[0m\u001b[0;34m(\u001b[0m\u001b[0mx\u001b[0m\u001b[0;34m[\u001b[0m\u001b[0mi\u001b[0m\u001b[0;34m]\u001b[0m\u001b[0;34m[\u001b[0m\u001b[0mj\u001b[0m\u001b[0;34m]\u001b[0m\u001b[0;34m[\u001b[0m\u001b[0;36m0\u001b[0m\u001b[0;34m]\u001b[0m\u001b[0;34m)\u001b[0m \u001b[0;34m>\u001b[0m \u001b[0;36m5\u001b[0m \u001b[0;32mor\u001b[0m \u001b[0mint\u001b[0m\u001b[0;34m(\u001b[0m\u001b[0mx\u001b[0m\u001b[0;34m[\u001b[0m\u001b[0mi\u001b[0m\u001b[0;34m]\u001b[0m\u001b[0;34m[\u001b[0m\u001b[0mj\u001b[0m\u001b[0;34m]\u001b[0m\u001b[0;34m[\u001b[0m\u001b[0;36m0\u001b[0m\u001b[0;34m]\u001b[0m\u001b[0;34m)\u001b[0m \u001b[0;34m<\u001b[0m \u001b[0;36m1\u001b[0m\u001b[0;34m:\u001b[0m\u001b[0;34m\u001b[0m\u001b[0;34m\u001b[0m\u001b[0m\n\u001b[0m\u001b[1;32m      5\u001b[0m         \u001b[0;31m#print(x[i][j])\u001b[0m\u001b[0;34m\u001b[0m\u001b[0;34m\u001b[0m\u001b[0m\n\u001b[1;32m      6\u001b[0m         \u001b[0;32mreturn\u001b[0m \u001b[0;34m-\u001b[0m\u001b[0;36m1\u001b[0m\u001b[0;34m\u001b[0m\u001b[0;34m\u001b[0m\u001b[0m\n",
            "\u001b[0;31mValueError\u001b[0m: invalid literal for int() with base 10: 't'"
          ]
        }
      ]
    }
  ]
}