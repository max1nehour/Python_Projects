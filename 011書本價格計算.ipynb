{
  "nbformat": 4,
  "nbformat_minor": 0,
  "metadata": {
    "colab": {
      "provenance": [],
      "authorship_tag": "ABX9TyM7E7NuQPcVF8WtpELOamwq",
      "include_colab_link": true
    },
    "kernelspec": {
      "name": "python3",
      "display_name": "Python 3"
    },
    "language_info": {
      "name": "python"
    }
  },
  "cells": [
    {
      "cell_type": "markdown",
      "metadata": {
        "id": "view-in-github",
        "colab_type": "text"
      },
      "source": [
        "<a href=\"https://colab.research.google.com/github/max1nehour/Python_Projects/blob/main/011%E6%9B%B8%E6%9C%AC%E5%83%B9%E6%A0%BC%E8%A8%88%E7%AE%97.ipynb\" target=\"_parent\"><img src=\"https://colab.research.google.com/assets/colab-badge.svg\" alt=\"Open In Colab\"/></a>"
      ]
    },
    {
      "cell_type": "code",
      "execution_count": null,
      "metadata": {
        "colab": {
          "base_uri": "https://localhost:8080/"
        },
        "id": "irHhnP03MZDO",
        "outputId": "45fa94fe-181d-4566-fb41-d9724912270d"
      },
      "outputs": [
        {
          "output_type": "stream",
          "name": "stdout",
          "text": [
            "6,96,80,75\n",
            "12,95,80,70\n",
            "30,90,80,75\n",
            "[6, 96, 80, 75, 380]\n"
          ]
        }
      ],
      "source": [
        "a = input()\n",
        "b = input()\n",
        "c = input()\n",
        "\n",
        "list_a = a.split(\",\")\n",
        "list_b = b.split(\",\")\n",
        "list_c = c.split(\",\")\n",
        "\n",
        "list_a = [int(num) for num in list_a]\n",
        "list_b = [int(num) for num in list_b]\n",
        "list_c = [int(num) for num in list_c]\n",
        "\n",
        "list_a.append(380)\n",
        "list_b.append(1200)\n",
        "list_c.append(180)\n",
        "print(list_a)"
      ]
    },
    {
      "cell_type": "code",
      "source": [
        "#price and comparison\n",
        "from collections import OrderedDict\n",
        "def price (a):\n",
        "  if 1< a[0] <10:\n",
        "    price = a[0]*a[4]\n",
        "    return int(price)\n",
        "    #priceDict.append(int(price))\n",
        "  elif 11<=a[0]<=20 :\n",
        "    price = a[0]*a[4]*(a[1]/100)\n",
        "    return int(price)\n",
        "    #priceList.append(int(price))\n",
        "  elif 21<=a[0]<=30:\n",
        "    price = a[0]*a[4]*(a[2]/100)\n",
        "    return int(price)\n",
        "    #priceList.append(int(price))\n",
        "  elif a[0]>=31:\n",
        "    price = a[0]*a[4]*(a[3]/100)\n",
        "    return int(price)\n",
        "    #priceList.append(int(price))\n",
        "\n",
        "priceDict ={\"A\":0,\n",
        "            \"B\":0,\n",
        "            \"C\":0\n",
        "            }\n",
        "priceDict[\"A\"]=price(list_a)\n",
        "priceDict[\"B\"]=price(list_b)\n",
        "priceDict[\"C\"]=price(list_c)\n",
        "\n",
        "print(priceDict.items())\n",
        "\n",
        "sorted(priceDict.items(),key=lambda x:x[1])\n",
        "#print(rank[0][0],rank[0][1],sep=\",\")"
      ],
      "metadata": {
        "colab": {
          "base_uri": "https://localhost:8080/",
          "height": 250
        },
        "id": "msyyRElYO5QV",
        "outputId": "18ad3f97-d020-4ff0-929a-ee38ccf99a5b"
      },
      "execution_count": null,
      "outputs": [
        {
          "output_type": "stream",
          "name": "stdout",
          "text": [
            "dict_items([('A', 2280), ('B', 13680), ('C', 4320)])\n"
          ]
        },
        {
          "output_type": "error",
          "ename": "TypeError",
          "evalue": "ignored",
          "traceback": [
            "\u001b[0;31m---------------------------------------------------------------------------\u001b[0m",
            "\u001b[0;31mTypeError\u001b[0m                                 Traceback (most recent call last)",
            "\u001b[0;32m<ipython-input-58-fa8702b69bc5>\u001b[0m in \u001b[0;36m<cell line: 31>\u001b[0;34m()\u001b[0m\n\u001b[1;32m     29\u001b[0m \u001b[0mprint\u001b[0m\u001b[0;34m(\u001b[0m\u001b[0mpriceDict\u001b[0m\u001b[0;34m.\u001b[0m\u001b[0mitems\u001b[0m\u001b[0;34m(\u001b[0m\u001b[0;34m)\u001b[0m\u001b[0;34m)\u001b[0m\u001b[0;34m\u001b[0m\u001b[0;34m\u001b[0m\u001b[0m\n\u001b[1;32m     30\u001b[0m \u001b[0;34m\u001b[0m\u001b[0m\n\u001b[0;32m---> 31\u001b[0;31m \u001b[0msorted\u001b[0m\u001b[0;34m(\u001b[0m\u001b[0mpriceDict\u001b[0m\u001b[0;34m.\u001b[0m\u001b[0mitems\u001b[0m\u001b[0;34m(\u001b[0m\u001b[0;34m)\u001b[0m\u001b[0;34m,\u001b[0m\u001b[0mkey\u001b[0m\u001b[0;34m=\u001b[0m\u001b[0;32mlambda\u001b[0m \u001b[0mx\u001b[0m\u001b[0;34m:\u001b[0m\u001b[0mx\u001b[0m\u001b[0;34m[\u001b[0m\u001b[0;36m1\u001b[0m\u001b[0;34m]\u001b[0m\u001b[0;34m)\u001b[0m\u001b[0;34m\u001b[0m\u001b[0;34m\u001b[0m\u001b[0m\n\u001b[0m\u001b[1;32m     32\u001b[0m \u001b[0;31m#print(rank[0][0],rank[0][1],sep=\",\")\u001b[0m\u001b[0;34m\u001b[0m\u001b[0;34m\u001b[0m\u001b[0m\n",
            "\u001b[0;31mTypeError\u001b[0m: 'NoneType' object is not callable"
          ]
        }
      ]
    }
  ]
}