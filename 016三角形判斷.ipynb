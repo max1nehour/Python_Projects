{
  "nbformat": 4,
  "nbformat_minor": 0,
  "metadata": {
    "colab": {
      "provenance": [],
      "authorship_tag": "ABX9TyNvxMI0uUxauDulXDVbYCru",
      "include_colab_link": true
    },
    "kernelspec": {
      "name": "python3",
      "display_name": "Python 3"
    },
    "language_info": {
      "name": "python"
    }
  },
  "cells": [
    {
      "cell_type": "markdown",
      "metadata": {
        "id": "view-in-github",
        "colab_type": "text"
      },
      "source": [
        "<a href=\"https://colab.research.google.com/github/max1nehour/Python_Projects/blob/main/016%E4%B8%89%E8%A7%92%E5%BD%A2%E5%88%A4%E6%96%B7.ipynb\" target=\"_parent\"><img src=\"https://colab.research.google.com/assets/colab-badge.svg\" alt=\"Open In Colab\"/></a>"
      ]
    },
    {
      "cell_type": "code",
      "source": [
        "import math\n",
        "\n",
        "def getArea(s,a,b,c):\n",
        "  area = math.sqrt(s*(s-a)*(s-b)*(s-c))\n",
        "  return \"{:.2f}\".format(float(area))\n",
        "\n",
        "def getTriangle(a,b,c):\n",
        "  count = 0\n",
        "  s = (a+b+c)/2\n",
        "\n",
        "  if a+b <= c or a+c <= b or b+c <= a or a<0 or b<0 or c<0:\n",
        "      print(\"not a triangle\")\n",
        "      area = 0\n",
        "      count=1\n",
        "      return area, count\n",
        "  elif a==b==c:\n",
        "      area = getArea(s,a,b,c)\n",
        "      print(\"equilateral triangle\",area)\n",
        "      return area,count\n",
        "  elif (a==b and a*a+b*b > c*c )or (b==c and c*c+b*b > a*a ) or (a==c and c*c+a*a > b*b ):\n",
        "      area = getArea(s,a,b,c)\n",
        "      print(\"isosceles triangle\",area)\n",
        "      return area, count\n",
        "  elif a*a > (b*b+c*c):\n",
        "      area = getArea(s,a,b,c)\n",
        "      print(\"obtuse triangle\",area)\n",
        "      return area,count\n",
        "  elif a*a < (b*b+c*c):\n",
        "      area = getArea(s,a,b,c)\n",
        "      print(\"acute triangle\",area)\n",
        "      return area,count\n",
        "  elif a*a == (b*b+c*c):\n",
        "      area = getArea(s,a,b,c)\n",
        "      print(\"right triangle\",area)\n",
        "      return area,count"
      ],
      "metadata": {
        "id": "qBsOCCeZQXo9"
      },
      "execution_count": null,
      "outputs": []
    },
    {
      "cell_type": "code",
      "execution_count": null,
      "metadata": {
        "colab": {
          "base_uri": "https://localhost:8080/"
        },
        "id": "Y3_qCX3RPk8c",
        "outputId": "9f0a7784-75dd-4020-af2e-dcc6ea86cc93"
      },
      "outputs": [
        {
          "name": "stdout",
          "output_type": "stream",
          "text": [
            "4\n",
            "3 4 5\n",
            "2 8 6\n",
            "4 4 3\n",
            "3 3 3\n"
          ]
        }
      ],
      "source": [
        "n = int(input())\n",
        "side = []\n",
        "area_list =[]\n",
        "\n",
        "for i in range(n):\n",
        "  sides = input()\n",
        "  pt = sides.split(\" \")\n",
        "  sub = [int(pt[0]),int(pt[1]),int(pt[2])]\n",
        "  sub.sort(reverse =True)\n",
        "  side.append(sub)\n"
      ]
    },
    {
      "cell_type": "code",
      "source": [
        "cc = {\"not\":0}\n",
        "\n",
        "for i in range(n):\n",
        "  part = getTriangle(side[i][0],side[i][1],side[i][2])\n",
        "  if part[1]==1: #count\n",
        "    cc[\"not\"]+=1\n",
        "  if part[0]!= 0:\n",
        "    area_list.append(part[0])\n",
        "\n",
        "#print(cc)\n",
        "\n",
        "\n",
        "if cc[\"not\"] == n:\n",
        "  print(\"All inputs are not triangles!\")\n",
        "elif 0 < cc[\"not\"] < n:\n",
        "  #area_list.remove(None)\n",
        "  area_list.sort()\n",
        "else:\n",
        "  area_list.sort()\n",
        "\n",
        "print(str(area_list[-1]))\n",
        "print(str(area_list[0]))\n"
      ],
      "metadata": {
        "colab": {
          "base_uri": "https://localhost:8080/"
        },
        "id": "31XfxeH-F-7p",
        "outputId": "0b82f454-ab5a-4bf9-97ab-8d4c26c96d3d"
      },
      "execution_count": null,
      "outputs": [
        {
          "output_type": "stream",
          "name": "stdout",
          "text": [
            "right triangle 6.00\n",
            "not a triangle\n",
            "isosceles triangle 5.56\n",
            "equilateral triangle 3.90\n",
            "6.00\n",
            "3.90\n"
          ]
        }
      ]
    }
  ]
}