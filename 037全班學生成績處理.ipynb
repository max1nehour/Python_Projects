{
 "cells": [
  {
   "cell_type": "code",
   "execution_count": 13,
   "metadata": {},
   "outputs": [
    {
     "name": "stdout",
     "output_type": "stream",
     "text": [
      "{'enteryr': ['1214', '1214'], 'semester': ['1131', '1131'], 'stu_sum': ['9', '10']}\n"
     ]
    }
   ],
   "source": [
    "#input\n",
    "course_sum = int(input())\n",
    "\n",
    "#course1\n",
    "c_id, semester, stu_sum =[],[],[]\n",
    "for i in range(course_sum):\n",
    "    course = str(input()).split() #course is list\n",
    "    c_id.append(course[0])\n",
    "    semester.append(course[1])\n",
    "    stu_sum.append(course[2])\n",
    "    \n",
    "course_info ={'c_id':c_id,'semester':semester,'stu_sum':stu_sum}\n",
    "stu_sum = int(course[2])\n",
    "print(course_info)\n"
   ]
  },
  {
   "cell_type": "code",
   "execution_count": 9,
   "metadata": {},
   "outputs": [
    {
     "name": "stdout",
     "output_type": "stream",
     "text": [
      "{'student_id': ['11153002', '11153003'], 'enteryr': ['111', '111'], 'major': ['530', '530'], 'seat': ['02', '03'], 'score': ['68', '67'], 'exam': ['72', '73']}\n"
     ]
    }
   ],
   "source": [
    "#course1, student info\n",
    "student_info ={}\n",
    "student_id, enteryr,major,seat,score, exam =[],[],[],[],[],[]\n",
    "for i in range(2):\n",
    "    student = str(input()).split()\n",
    "    student_id.append(student[0])\n",
    "    enteryr.append(student[0][:3])\n",
    "    major.append(student[0][3:6])\n",
    "    seat.append(student[0][-2:])\n",
    "    if len(student)<3:\n",
    "        score.append(student[1]) #may be 'w'\n",
    "    else:\n",
    "        score.append(student[1])\n",
    "        exam.append(student[2])\n",
    "\n",
    "student_info ={'student_id':student_id,'enteryr':enteryr,'major':major,'seat':seat,'score':score,'exam' :exam}\n",
    "print(student_info)"
   ]
  }
 ],
 "metadata": {
  "kernelspec": {
   "display_name": "Python 3",
   "language": "python",
   "name": "python3"
  },
  "language_info": {
   "codemirror_mode": {
    "name": "ipython",
    "version": 3
   },
   "file_extension": ".py",
   "mimetype": "text/x-python",
   "name": "python",
   "nbconvert_exporter": "python",
   "pygments_lexer": "ipython3",
   "version": "3.11.4"
  }
 },
 "nbformat": 4,
 "nbformat_minor": 2
}
