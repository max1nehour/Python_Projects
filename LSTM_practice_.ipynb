{
  "nbformat": 4,
  "nbformat_minor": 0,
  "metadata": {
    "colab": {
      "provenance": [],
      "authorship_tag": "ABX9TyNmazvV2YywPQBhKsrNYlFL",
      "include_colab_link": true
    },
    "kernelspec": {
      "name": "python3",
      "display_name": "Python 3"
    },
    "language_info": {
      "name": "python"
    }
  },
  "cells": [
    {
      "cell_type": "markdown",
      "metadata": {
        "id": "view-in-github",
        "colab_type": "text"
      },
      "source": [
        "<a href=\"https://colab.research.google.com/github/max1nehour/Python_projects/blob/main/LSTM_practice_.ipynb\" target=\"_parent\"><img src=\"https://colab.research.google.com/assets/colab-badge.svg\" alt=\"Open In Colab\"/></a>"
      ]
    },
    {
      "cell_type": "code",
      "execution_count": 229,
      "metadata": {
        "colab": {
          "base_uri": "https://localhost:8080/"
        },
        "id": "cRUAGxZV2JcQ",
        "outputId": "71a60e0e-fee8-4023-af7a-ecd39e23db0b"
      },
      "outputs": [
        {
          "output_type": "stream",
          "name": "stdout",
          "text": [
            "           Date       area  Long_range_trans  Vehicle_exhaust  Coal_fired  \\\n",
            "0    2017-01-01    Banqiao          0.456520         4.401043    0.502707   \n",
            "1    2017-01-01     Chiayi          0.387843        22.131700    0.773481   \n",
            "2    2017-01-01     Douliu          1.657679        11.170355    1.552080   \n",
            "3    2017-01-01    Hualien          0.034066         3.683370    0.094480   \n",
            "4    2017-01-01   Xiaogang          2.605544        19.554745    1.393970   \n",
            "..          ...        ...               ...              ...         ...   \n",
            "726  2018-12-22     Chiayi          0.629655        30.289835    0.962013   \n",
            "727  2018-12-22     Douliu          2.762889         9.984987    0.862275   \n",
            "728  2018-12-22    Hualien          0.080599         4.253326    0.162199   \n",
            "729  2018-12-22   Xiaogang          4.069600        12.981454    0.530829   \n",
            "730  2018-12-22  Zhongming          0.517477        12.574030    5.793047   \n",
            "\n",
            "     Road_dust  Soil_dust  Industrial_processes  Agricultural_activities  \\\n",
            "0     1.255795   0.356854              1.189513                 0.178427   \n",
            "1     6.891424   2.386361             12.056607                 1.332625   \n",
            "2     4.559221   5.941903             16.908981                 3.923649   \n",
            "3     0.670961   1.027567              0.139748                 0.514955   \n",
            "4     2.859353   2.757833             15.412781                 2.844326   \n",
            "..         ...        ...                   ...                      ...   \n",
            "726   4.936828   1.824651             16.122491                 0.387627   \n",
            "727   5.090464   5.635692             21.447302                 4.875480   \n",
            "728   0.942879   1.368318              0.359283                 0.830563   \n",
            "729   4.055481   4.950825             25.929043                 4.789592   \n",
            "730   5.580692   6.608478             10.532334                 1.634691   \n",
            "\n",
            "     Sea_salt_spray  ...        As     Date_s1  N1_s1     P1_s1     dt  \\\n",
            "0          0.233365  ...  0.000490         NaN    NaN       NaN  20820   \n",
            "1          0.405771  ...  0.001303         NaN    NaN       NaN  20820   \n",
            "2          0.692221  ...  0.001035         NaN    NaN       NaN  20820   \n",
            "3          1.953852  ...  0.000655         NaN    NaN       NaN  20820   \n",
            "4          9.247669  ...  0.001167         NaN    NaN       NaN  20820   \n",
            "..              ...  ...       ...         ...    ...       ...    ...   \n",
            "726        0.721106  ...  0.000884  2018-12-21  615.0  0.067776  21540   \n",
            "727        0.938113  ...  0.000901  2018-12-21  739.0  0.090486  21540   \n",
            "728        2.404794  ...  0.000304  2018-12-21  979.0  0.121781  21540   \n",
            "729       15.557426  ...  0.000834  2018-12-24  474.0  0.070778  21540   \n",
            "730        1.354044  ...  0.000807  2018-12-21  674.0  0.065488  21540   \n",
            "\n",
            "         Co_p   pm25  weekday  nxdt_pm25   M  \n",
            "0    0.000005   5.25   ¬P´Á¤é      17.79   1  \n",
            "1    0.000003  43.33   ¬P´Á¤é      61.17   1  \n",
            "2    0.000002  37.83   ¬P´Á¤é      49.42   1  \n",
            "3    0.000003  11.35   ¬P´Á¤é       8.91   1  \n",
            "4    0.000003  51.33   ¬P´Á¤é      68.25   1  \n",
            "..        ...    ...      ...        ...  ..  \n",
            "726  0.000002  61.71   ¬P´Á¤»      42.75  12  \n",
            "727  0.000004  58.48   ¬P´Á¤»      45.92  12  \n",
            "728  0.000006   3.92   ¬P´Á¤»       1.46  12  \n",
            "729  0.000006  57.62   ¬P´Á¤»      54.42  12  \n",
            "730  0.000005  40.96   ¬P´Á¤»      26.96  12  \n",
            "\n",
            "[731 rows x 87 columns]\n",
            "[[ 5.25]\n",
            " [27.92]\n",
            " [ 9.54]\n",
            " [ 8.29]\n",
            " [11.29]\n",
            " [ 6.33]\n",
            " [31.33]\n",
            " [ 9.79]\n",
            " [ 5.83]\n",
            " [ 8.17]\n",
            " [28.75]\n",
            " [24.75]\n",
            " [12.08]\n",
            " [27.88]\n",
            " [29.12]\n",
            " [ 9.12]\n",
            " [34.29]\n",
            " [20.29]\n",
            " [28.42]\n",
            " [34.12]\n",
            " [23.58]\n",
            " [17.79]\n",
            " [16.25]\n",
            " [14.5 ]\n",
            " [16.38]\n",
            " [13.29]\n",
            " [24.  ]\n",
            " [ 9.83]\n",
            " [ 4.88]\n",
            " [ 9.58]\n",
            " [24.96]\n",
            " [ 5.62]\n",
            " [18.29]\n",
            " [15.25]\n",
            " [16.29]\n",
            " [15.  ]\n",
            " [11.92]\n",
            " [16.58]\n",
            " [ 9.33]\n",
            " [ 5.54]\n",
            " [12.71]\n",
            " [17.33]\n",
            " [16.58]\n",
            " [26.83]\n",
            " [14.75]\n",
            " [24.83]\n",
            " [ 9.17]\n",
            " [ 3.67]\n",
            " [ 8.54]\n",
            " [22.62]\n",
            " [21.67]\n",
            " [12.71]\n",
            " [16.17]\n",
            " [10.17]\n",
            " [ 5.92]\n",
            " [ 7.38]\n",
            " [ 7.83]\n",
            " [14.96]\n",
            " [ 6.54]\n",
            " [ 7.46]\n",
            " [14.62]\n",
            " [10.96]\n",
            " [ 8.  ]\n",
            " [ 7.54]\n",
            " [23.83]\n",
            " [ 6.04]\n",
            " [31.25]\n",
            " [20.38]\n",
            " [19.5 ]\n",
            " [36.96]\n",
            " [24.04]\n",
            " [65.96]\n",
            " [30.21]\n",
            " [27.21]\n",
            " [12.21]\n",
            " [24.79]\n",
            " [31.21]\n",
            " [18.38]\n",
            " [24.12]\n",
            " [16.04]\n",
            " [20.75]\n",
            " [25.5 ]\n",
            " [10.75]\n",
            " [27.62]\n",
            " [10.96]\n",
            " [16.08]\n",
            " [ 8.79]\n",
            " [ 8.75]\n",
            " [20.58]\n",
            " [ 4.38]\n",
            " [17.75]\n",
            " [ 8.92]\n",
            " [ 9.5 ]\n",
            " [ 6.38]\n",
            " [ 3.5 ]\n",
            " [16.5 ]\n",
            " [16.67]\n",
            " [12.79]\n",
            " [21.96]\n",
            " [12.46]\n",
            " [ 7.67]\n",
            " [ 8.04]\n",
            " [17.96]\n",
            " [ 6.79]\n",
            " [14.08]\n",
            " [ 9.42]\n",
            " [13.71]\n",
            " [19.71]\n",
            " [ 9.67]\n",
            " [10.21]\n",
            " [21.46]\n",
            " [16.17]\n",
            " [ 8.  ]\n",
            " [14.42]\n",
            " [17.42]\n",
            " [11.92]\n",
            " [17.08]\n",
            " [22.83]\n",
            " [ 3.75]\n",
            " [ 6.33]\n",
            " [14.92]\n",
            " [36.  ]]\n"
          ]
        },
        {
          "output_type": "execute_result",
          "data": {
            "text/plain": [
              "(122, 1)"
            ]
          },
          "metadata": {},
          "execution_count": 229
        }
      ],
      "source": [
        "# Import the libraries\n",
        "import numpy as np\n",
        "import matplotlib.pyplot as plt  # for 畫圖用\n",
        "import pandas as pd\n",
        "\n",
        "# Import the training set\n",
        "dataset_train = pd.read_csv('pm2.5_data_3_train1.csv')  # 讀取訓練集\n",
        "print(dataset_train)\n",
        "filt = (dataset_train['area'] == 'Banqiao')\n",
        "training_set = dataset_train.loc[filt, ['PM2_5']].values\n",
        "print(training_set)\n",
        "training_set.shape"
      ]
    },
    {
      "cell_type": "markdown",
      "source": [
        "做 Normalization，將資料壓縮在 [0,1] 之間"
      ],
      "metadata": {
        "id": "-x8v2hJI2Yg3"
      }
    },
    {
      "cell_type": "code",
      "source": [
        "# Feature Scaling\n",
        "from sklearn.preprocessing import MinMaxScaler\n",
        "\n",
        "sc = MinMaxScaler(feature_range = (0, 1)) #控制最大值最小值範圍\n",
        "training_set_scaled = sc.fit_transform(training_set)#fit_transform: 先對partData作fit()的功能，找到該partData的整體統計特性之指標，如平均值、標準差、最大最小值等等(能依據不同目的套用這些指標在不同的轉換(即後面的transform()動作)上，再實行transform(partData)以對partData進行標準化\n",
        "print(training_set_scaled.shape)\n",
        "#training_set_scaled = training_set\n",
        "print(training_set_scaled.shape)"
      ],
      "metadata": {
        "id": "APjY3Lap2Y22",
        "colab": {
          "base_uri": "https://localhost:8080/"
        },
        "outputId": "10f92563-3af2-44af-bf31-5ec129fd96ca"
      },
      "execution_count": 230,
      "outputs": [
        {
          "output_type": "stream",
          "name": "stdout",
          "text": [
            "(122, 1)\n",
            "(122, 1)\n"
          ]
        }
      ]
    },
    {
      "cell_type": "markdown",
      "source": [
        "準備進入訓練的資料格式：設定 Timestep 設為 60 ，代表過去 60 天的資訊，嘗試過數值設置太少，將使 RNN 無法學習。"
      ],
      "metadata": {
        "id": "U6czb7VR2ebe"
      }
    },
    {
      "cell_type": "code",
      "source": [
        "X_train = []\n",
        "y_train = []\n",
        "for i in range(20, 122):  # 訓練集總數\n",
        "    X_train.append(training_set_scaled[i-20:i, 0])\n",
        "    y_train.append(training_set_scaled[i, 0])\n",
        "X_train, y_train = np.array(X_train), np.array(y_train)  # 轉成numpy array的格式，以利輸入 RNN"
      ],
      "metadata": {
        "id": "qmWe8lgZ2gYH"
      },
      "execution_count": 231,
      "outputs": []
    },
    {
      "cell_type": "markdown",
      "source": [
        "Reshape\n",
        "因為現在 X_train 是 2-dimension，將它 reshape 成 3-dimension: [stock prices, timesteps, indicators]"
      ],
      "metadata": {
        "id": "zsF7SLpB2j5C"
      }
    },
    {
      "cell_type": "code",
      "source": [
        "X_train = np.reshape(X_train, (X_train.shape[0], X_train.shape[1], 1))"
      ],
      "metadata": {
        "id": "63JW5quZ2ld3"
      },
      "execution_count": 232,
      "outputs": []
    },
    {
      "cell_type": "markdown",
      "source": [
        "#搭建一個 LSTM"
      ],
      "metadata": {
        "id": "xsdM-s92K55d"
      }
    },
    {
      "cell_type": "code",
      "source": [
        "# Import the Keras libraries and packages\n",
        "from keras.models import Sequential\n",
        "from keras.layers import Dense\n",
        "from keras.layers import LSTM\n",
        "from keras.layers import Dropout\n",
        "\n",
        "# Initialising the RNN\n",
        "regressor = Sequential()"
      ],
      "metadata": {
        "id": "248Rpc6mK8aS"
      },
      "execution_count": 233,
      "outputs": []
    },
    {
      "cell_type": "markdown",
      "source": [
        "搭建 LSTM layer\n",
        "\n",
        "units: 神經元的數目\n",
        "\n",
        "第一層的 LSTM Layer 記得要設定input_shape參數\n",
        "\n",
        "搭配使用dropout，這裡設為 0.2\n",
        "\n",
        "由於這邊的第四層 LSTM Layer 即將跟 Ouput Layer 做連接，因此注意這邊的 return_sequences 設為預設值 False （也就是不用寫上 return_sequences）"
      ],
      "metadata": {
        "id": "4CAUOC_3LQUr"
      }
    },
    {
      "cell_type": "code",
      "source": [
        "# Adding the first LSTM layer and some Dropout regularisation\n",
        "regressor.add(LSTM(units = 50, return_sequences = True, input_shape = (X_train.shape[1], 1)))\n",
        "regressor.add(Dropout(0.2))\n",
        "\n",
        "# Adding a second LSTM layer and some Dropout regularisation\n",
        "regressor.add(LSTM(units = 50, return_sequences = True))\n",
        "regressor.add(Dropout(0.2))\n",
        "\n",
        "# Adding a third LSTM layer and some Dropout regularisation\n",
        "regressor.add(LSTM(units = 50, return_sequences = True))\n",
        "regressor.add(Dropout(0.2))\n",
        "\n",
        "# Adding a fourth LSTM layer and some Dropout regularisation\n",
        "regressor.add(LSTM(units = 50))\n",
        "regressor.add(Dropout(0.2))"
      ],
      "metadata": {
        "id": "WHs47WxvLKCH"
      },
      "execution_count": 234,
      "outputs": []
    },
    {
      "cell_type": "code",
      "source": [
        "# Adding the output layer\n",
        "regressor.add(Dense(units = 1))"
      ],
      "metadata": {
        "id": "TGyx7AiWLfh2"
      },
      "execution_count": 235,
      "outputs": []
    },
    {
      "cell_type": "markdown",
      "source": [
        "#Compiling & Fitting LSTM model\n",
        "\n",
        "optimizer: 選擇 Adam\n",
        "\n",
        "loss: 使用 MSE"
      ],
      "metadata": {
        "id": "Li8VCw-6LdYI"
      }
    },
    {
      "cell_type": "code",
      "source": [
        "# Compiling\n",
        "regressor.compile(optimizer = 'adam', loss = 'mean_squared_error')\n",
        "print(X_train.shape)\n",
        "# 進行訓練\n",
        "regressor.fit(X_train, y_train, epochs = 100, batch_size = 32)"
      ],
      "metadata": {
        "colab": {
          "base_uri": "https://localhost:8080/"
        },
        "id": "lctrPljRLsC6",
        "outputId": "18671946-bc62-4754-db4d-e4601549a9be"
      },
      "execution_count": 236,
      "outputs": [
        {
          "output_type": "stream",
          "name": "stdout",
          "text": [
            "(102, 20, 1)\n",
            "Epoch 1/100\n",
            "4/4 [==============================] - 9s 44ms/step - loss: 0.0490\n",
            "Epoch 2/100\n",
            "4/4 [==============================] - 0s 50ms/step - loss: 0.0243\n",
            "Epoch 3/100\n",
            "4/4 [==============================] - 0s 45ms/step - loss: 0.0225\n",
            "Epoch 4/100\n",
            "4/4 [==============================] - 0s 51ms/step - loss: 0.0227\n",
            "Epoch 5/100\n",
            "4/4 [==============================] - 0s 44ms/step - loss: 0.0221\n",
            "Epoch 6/100\n",
            "4/4 [==============================] - 0s 51ms/step - loss: 0.0207\n",
            "Epoch 7/100\n",
            "4/4 [==============================] - 0s 47ms/step - loss: 0.0229\n",
            "Epoch 8/100\n",
            "4/4 [==============================] - 0s 78ms/step - loss: 0.0205\n",
            "Epoch 9/100\n",
            "4/4 [==============================] - 0s 83ms/step - loss: 0.0217\n",
            "Epoch 10/100\n",
            "4/4 [==============================] - 0s 45ms/step - loss: 0.0220\n",
            "Epoch 11/100\n",
            "4/4 [==============================] - 0s 45ms/step - loss: 0.0210\n",
            "Epoch 12/100\n",
            "4/4 [==============================] - 0s 53ms/step - loss: 0.0205\n",
            "Epoch 13/100\n",
            "4/4 [==============================] - 0s 48ms/step - loss: 0.0215\n",
            "Epoch 14/100\n",
            "4/4 [==============================] - 0s 46ms/step - loss: 0.0210\n",
            "Epoch 15/100\n",
            "4/4 [==============================] - 0s 50ms/step - loss: 0.0204\n",
            "Epoch 16/100\n",
            "4/4 [==============================] - 0s 46ms/step - loss: 0.0207\n",
            "Epoch 17/100\n",
            "4/4 [==============================] - 0s 46ms/step - loss: 0.0206\n",
            "Epoch 18/100\n",
            "4/4 [==============================] - 0s 47ms/step - loss: 0.0197\n",
            "Epoch 19/100\n",
            "4/4 [==============================] - 0s 45ms/step - loss: 0.0203\n",
            "Epoch 20/100\n",
            "4/4 [==============================] - 0s 45ms/step - loss: 0.0205\n",
            "Epoch 21/100\n",
            "4/4 [==============================] - 0s 46ms/step - loss: 0.0211\n",
            "Epoch 22/100\n",
            "4/4 [==============================] - 0s 47ms/step - loss: 0.0216\n",
            "Epoch 23/100\n",
            "4/4 [==============================] - 0s 49ms/step - loss: 0.0194\n",
            "Epoch 24/100\n",
            "4/4 [==============================] - 0s 46ms/step - loss: 0.0193\n",
            "Epoch 25/100\n",
            "4/4 [==============================] - 0s 46ms/step - loss: 0.0206\n",
            "Epoch 26/100\n",
            "4/4 [==============================] - 0s 46ms/step - loss: 0.0192\n",
            "Epoch 27/100\n",
            "4/4 [==============================] - 0s 48ms/step - loss: 0.0199\n",
            "Epoch 28/100\n",
            "4/4 [==============================] - 0s 45ms/step - loss: 0.0196\n",
            "Epoch 29/100\n",
            "4/4 [==============================] - 0s 49ms/step - loss: 0.0196\n",
            "Epoch 30/100\n",
            "4/4 [==============================] - 0s 76ms/step - loss: 0.0203\n",
            "Epoch 31/100\n",
            "4/4 [==============================] - 0s 80ms/step - loss: 0.0221\n",
            "Epoch 32/100\n",
            "4/4 [==============================] - 0s 81ms/step - loss: 0.0213\n",
            "Epoch 33/100\n",
            "4/4 [==============================] - 0s 76ms/step - loss: 0.0210\n",
            "Epoch 34/100\n",
            "4/4 [==============================] - 0s 78ms/step - loss: 0.0202\n",
            "Epoch 35/100\n",
            "4/4 [==============================] - 0s 80ms/step - loss: 0.0204\n",
            "Epoch 36/100\n",
            "4/4 [==============================] - 0s 84ms/step - loss: 0.0205\n",
            "Epoch 37/100\n",
            "4/4 [==============================] - 0s 78ms/step - loss: 0.0187\n",
            "Epoch 38/100\n",
            "4/4 [==============================] - 0s 78ms/step - loss: 0.0193\n",
            "Epoch 39/100\n",
            "4/4 [==============================] - 0s 52ms/step - loss: 0.0199\n",
            "Epoch 40/100\n",
            "4/4 [==============================] - 0s 46ms/step - loss: 0.0197\n",
            "Epoch 41/100\n",
            "4/4 [==============================] - 0s 47ms/step - loss: 0.0191\n",
            "Epoch 42/100\n",
            "4/4 [==============================] - 0s 47ms/step - loss: 0.0195\n",
            "Epoch 43/100\n",
            "4/4 [==============================] - 0s 51ms/step - loss: 0.0196\n",
            "Epoch 44/100\n",
            "4/4 [==============================] - 0s 46ms/step - loss: 0.0190\n",
            "Epoch 45/100\n",
            "4/4 [==============================] - 0s 48ms/step - loss: 0.0191\n",
            "Epoch 46/100\n",
            "4/4 [==============================] - 0s 44ms/step - loss: 0.0206\n",
            "Epoch 47/100\n",
            "4/4 [==============================] - 0s 49ms/step - loss: 0.0195\n",
            "Epoch 48/100\n",
            "4/4 [==============================] - 0s 48ms/step - loss: 0.0176\n",
            "Epoch 49/100\n",
            "4/4 [==============================] - 0s 45ms/step - loss: 0.0184\n",
            "Epoch 50/100\n",
            "4/4 [==============================] - 0s 46ms/step - loss: 0.0188\n",
            "Epoch 51/100\n",
            "4/4 [==============================] - 0s 46ms/step - loss: 0.0191\n",
            "Epoch 52/100\n",
            "4/4 [==============================] - 0s 48ms/step - loss: 0.0185\n",
            "Epoch 53/100\n",
            "4/4 [==============================] - 0s 47ms/step - loss: 0.0195\n",
            "Epoch 54/100\n",
            "4/4 [==============================] - 0s 50ms/step - loss: 0.0181\n",
            "Epoch 55/100\n",
            "4/4 [==============================] - 0s 49ms/step - loss: 0.0188\n",
            "Epoch 56/100\n",
            "4/4 [==============================] - 0s 48ms/step - loss: 0.0186\n",
            "Epoch 57/100\n",
            "4/4 [==============================] - 0s 49ms/step - loss: 0.0187\n",
            "Epoch 58/100\n",
            "4/4 [==============================] - 0s 47ms/step - loss: 0.0175\n",
            "Epoch 59/100\n",
            "4/4 [==============================] - 0s 51ms/step - loss: 0.0182\n",
            "Epoch 60/100\n",
            "4/4 [==============================] - 0s 51ms/step - loss: 0.0189\n",
            "Epoch 61/100\n",
            "4/4 [==============================] - 0s 45ms/step - loss: 0.0188\n",
            "Epoch 62/100\n",
            "4/4 [==============================] - 0s 51ms/step - loss: 0.0177\n",
            "Epoch 63/100\n",
            "4/4 [==============================] - 0s 45ms/step - loss: 0.0185\n",
            "Epoch 64/100\n",
            "4/4 [==============================] - 0s 52ms/step - loss: 0.0178\n",
            "Epoch 65/100\n",
            "4/4 [==============================] - 0s 46ms/step - loss: 0.0190\n",
            "Epoch 66/100\n",
            "4/4 [==============================] - 0s 47ms/step - loss: 0.0188\n",
            "Epoch 67/100\n",
            "4/4 [==============================] - 0s 49ms/step - loss: 0.0185\n",
            "Epoch 68/100\n",
            "4/4 [==============================] - 0s 46ms/step - loss: 0.0181\n",
            "Epoch 69/100\n",
            "4/4 [==============================] - 0s 48ms/step - loss: 0.0192\n",
            "Epoch 70/100\n",
            "4/4 [==============================] - 0s 49ms/step - loss: 0.0188\n",
            "Epoch 71/100\n",
            "4/4 [==============================] - 0s 49ms/step - loss: 0.0184\n",
            "Epoch 72/100\n",
            "4/4 [==============================] - 0s 45ms/step - loss: 0.0183\n",
            "Epoch 73/100\n",
            "4/4 [==============================] - 0s 45ms/step - loss: 0.0190\n",
            "Epoch 74/100\n",
            "4/4 [==============================] - 0s 51ms/step - loss: 0.0186\n",
            "Epoch 75/100\n",
            "4/4 [==============================] - 0s 48ms/step - loss: 0.0201\n",
            "Epoch 76/100\n",
            "4/4 [==============================] - 0s 47ms/step - loss: 0.0178\n",
            "Epoch 77/100\n",
            "4/4 [==============================] - 0s 45ms/step - loss: 0.0179\n",
            "Epoch 78/100\n",
            "4/4 [==============================] - 0s 45ms/step - loss: 0.0177\n",
            "Epoch 79/100\n",
            "4/4 [==============================] - 0s 51ms/step - loss: 0.0181\n",
            "Epoch 80/100\n",
            "4/4 [==============================] - 0s 46ms/step - loss: 0.0192\n",
            "Epoch 81/100\n",
            "4/4 [==============================] - 0s 44ms/step - loss: 0.0177\n",
            "Epoch 82/100\n",
            "4/4 [==============================] - 0s 47ms/step - loss: 0.0177\n",
            "Epoch 83/100\n",
            "4/4 [==============================] - 0s 47ms/step - loss: 0.0174\n",
            "Epoch 84/100\n",
            "4/4 [==============================] - 0s 44ms/step - loss: 0.0175\n",
            "Epoch 85/100\n",
            "4/4 [==============================] - 0s 49ms/step - loss: 0.0184\n",
            "Epoch 86/100\n",
            "4/4 [==============================] - 0s 47ms/step - loss: 0.0175\n",
            "Epoch 87/100\n",
            "4/4 [==============================] - 0s 49ms/step - loss: 0.0174\n",
            "Epoch 88/100\n",
            "4/4 [==============================] - 0s 47ms/step - loss: 0.0175\n",
            "Epoch 89/100\n",
            "4/4 [==============================] - 0s 68ms/step - loss: 0.0165\n",
            "Epoch 90/100\n",
            "4/4 [==============================] - 0s 76ms/step - loss: 0.0178\n",
            "Epoch 91/100\n",
            "4/4 [==============================] - 0s 75ms/step - loss: 0.0174\n",
            "Epoch 92/100\n",
            "4/4 [==============================] - 0s 74ms/step - loss: 0.0171\n",
            "Epoch 93/100\n",
            "4/4 [==============================] - 0s 80ms/step - loss: 0.0179\n",
            "Epoch 94/100\n",
            "4/4 [==============================] - 0s 80ms/step - loss: 0.0188\n",
            "Epoch 95/100\n",
            "4/4 [==============================] - 0s 81ms/step - loss: 0.0165\n",
            "Epoch 96/100\n",
            "4/4 [==============================] - 0s 77ms/step - loss: 0.0166\n",
            "Epoch 97/100\n",
            "4/4 [==============================] - 0s 82ms/step - loss: 0.0158\n",
            "Epoch 98/100\n",
            "4/4 [==============================] - 0s 77ms/step - loss: 0.0174\n",
            "Epoch 99/100\n",
            "4/4 [==============================] - 0s 44ms/step - loss: 0.0163\n",
            "Epoch 100/100\n",
            "4/4 [==============================] - 0s 54ms/step - loss: 0.0166\n"
          ]
        },
        {
          "output_type": "execute_result",
          "data": {
            "text/plain": [
              "<keras.callbacks.History at 0x795ef7f50fa0>"
            ]
          },
          "metadata": {},
          "execution_count": 236
        }
      ]
    },
    {
      "cell_type": "markdown",
      "source": [
        "# 進行預測"
      ],
      "metadata": {
        "id": "6UngBlUsL1DV"
      }
    },
    {
      "cell_type": "code",
      "source": [
        "#取測試集中 2017 年的股票資料（真實）\n",
        "dataset_test = pd.read_csv('pm2.5_data_3_test.csv')\n",
        "print(dataset_test)\n",
        "filt2 = (dataset_test['area'] == 'Banqiao')\n",
        "real_pm25 = dataset_test.loc[filt2, ['PM2_5']].values\n",
        "print(real_pm25.shape)\n",
        "print(real_pm25)\n",
        "#real_pm25 = dataset_test.loc[filt2, ['pm25']]\n",
        "#real_pm25"
      ],
      "metadata": {
        "id": "d2WJLiZAL7a4",
        "colab": {
          "base_uri": "https://localhost:8080/"
        },
        "outputId": "03a151ec-250b-4cdc-e99c-3ac93884f5b5"
      },
      "execution_count": 237,
      "outputs": [
        {
          "output_type": "stream",
          "name": "stdout",
          "text": [
            "           Date       area  Long_range_trans  Vehicle_exhaust  Coal_fired  \\\n",
            "0    2019-01-03    Banqiao          0.192979         1.609420    0.129014   \n",
            "1    2019-01-03     Chiayi          0.299420        11.534817    0.461483   \n",
            "2    2019-01-03     Douliu          1.092333         4.880216    0.489556   \n",
            "3    2019-01-03    Hualien          0.012352         0.953386    0.069130   \n",
            "4    2019-01-03   Xiaogang          2.489239         8.504630    0.347688   \n",
            "..          ...        ...               ...              ...         ...   \n",
            "361  2019-12-23     Chiayi          0.381544        15.153218    0.575682   \n",
            "362  2019-12-23     Douliu          0.520352         8.169237    2.453606   \n",
            "363  2019-12-23    Hualien          0.071570         2.015280    0.121488   \n",
            "364  2019-12-23   Xiaogang          2.663056         9.696881    0.401567   \n",
            "365  2019-12-23  Zhongming          0.164308         3.985862    3.010674   \n",
            "\n",
            "     Road_dust  Soil_dust  Industrial_processes  Agricultural_activities  \\\n",
            "0     0.725753   0.285238              0.186413                 0.185601   \n",
            "1     2.669717   1.093292              8.080840                 0.301091   \n",
            "2     2.279547   2.721104              8.020274                 2.145118   \n",
            "3     0.361001   0.546997              0.249924                 0.538020   \n",
            "4     2.619742   2.642449             15.730706                 2.113959   \n",
            "..         ...        ...                   ...                      ...   \n",
            "361   3.294619   1.348013             10.046945                 0.351860   \n",
            "362   3.156579   6.213382              8.600318                 2.179219   \n",
            "363   0.576137   0.805035              0.343986                 0.572777   \n",
            "364   3.081306   2.668317             15.497811                 2.134653   \n",
            "365   1.940062   1.949257              4.515831                 0.550849   \n",
            "\n",
            "     Sea_salt_spray  ...        As     Date_s1  N1_s1     P1_s1     dt  \\\n",
            "0          0.175583  ...  0.000086  2018-12-27   2618  0.108392  21552   \n",
            "1          0.312195  ...  0.000792  2018-12-27    704  0.081013  21552   \n",
            "2          0.389413  ...  0.000754  2018-12-27    612  0.073267  21552   \n",
            "3          0.680600  ...  0.000173  2018-12-27   1120  0.126112  21552   \n",
            "4          9.438423  ...  0.000590  2018-12-27    357  0.063933  21552   \n",
            "..              ...  ...       ...         ...    ...       ...    ...   \n",
            "361        0.403047  ...  0.000722  2019-12-22    235  0.185478  21906   \n",
            "362        0.380211  ...  0.000791  2019-12-22    284  0.247818  21906   \n",
            "363        1.263816  ...  0.000190  2019-12-25    889  0.101461  21906   \n",
            "364        9.298687  ...  0.000750  2019-12-22     93  0.105323  21906   \n",
            "365        0.488509  ...  0.000509  2019-12-22    308  0.163136  21906   \n",
            "\n",
            "         Co_p   pm25  weekday  nxdt_pm25   M  \n",
            "0    0.000005   5.96   ¬P´Á¥|      17.42   1  \n",
            "1    0.000008  22.62   ¬P´Á¥|      32.61   1  \n",
            "2    0.000006  20.12   ¬P´Á¥|      35.76   1  \n",
            "3    0.000019   2.83   ¬P´Á¥|       2.29   1  \n",
            "4    0.000008  34.96   ¬P´Á¥|      37.50   1  \n",
            "..        ...    ...      ...        ...  ..  \n",
            "361  0.000003  27.17   ¬P´Á¤@      28.54  12  \n",
            "362  0.000005  21.50   ¬P´Á¤@      27.08  12  \n",
            "363  0.000002   5.46   ¬P´Á¤@       6.83  12  \n",
            "364  0.000009  33.38   ¬P´Á¤@      35.33  12  \n",
            "365  0.000005  14.58   ¬P´Á¤@      21.25  12  \n",
            "\n",
            "[366 rows x 87 columns]\n",
            "(61, 1)\n",
            "[[ 5.96]\n",
            " [ 8.29]\n",
            " [15.17]\n",
            " [14.04]\n",
            " [26.5 ]\n",
            " [ 9.71]\n",
            " [27.79]\n",
            " [ 9.29]\n",
            " [13.04]\n",
            " [24.54]\n",
            " [13.58]\n",
            " [14.62]\n",
            " [10.83]\n",
            " [13.75]\n",
            " [14.83]\n",
            " [27.08]\n",
            " [20.54]\n",
            " [30.46]\n",
            " [17.42]\n",
            " [14.5 ]\n",
            " [11.12]\n",
            " [12.33]\n",
            " [ 6.04]\n",
            " [17.25]\n",
            " [12.33]\n",
            " [17.12]\n",
            " [ 8.  ]\n",
            " [14.  ]\n",
            " [11.21]\n",
            " [11.62]\n",
            " [15.33]\n",
            " [11.33]\n",
            " [14.04]\n",
            " [15.75]\n",
            " [13.29]\n",
            " [12.83]\n",
            " [ 5.42]\n",
            " [ 5.04]\n",
            " [ 7.96]\n",
            " [15.71]\n",
            " [12.  ]\n",
            " [10.08]\n",
            " [ 9.04]\n",
            " [ 8.96]\n",
            " [ 5.67]\n",
            " [14.08]\n",
            " [12.12]\n",
            " [16.42]\n",
            " [21.92]\n",
            " [19.08]\n",
            " [15.75]\n",
            " [39.71]\n",
            " [18.54]\n",
            " [13.04]\n",
            " [30.92]\n",
            " [ 9.  ]\n",
            " [ 8.5 ]\n",
            " [ 9.96]\n",
            " [15.96]\n",
            " [22.62]\n",
            " [ 5.25]]\n"
          ]
        }
      ]
    },
    {
      "cell_type": "code",
      "source": [
        "#取模型所預測的 2017 年股票資料（預測\n",
        "dataset_total = pd.concat((dataset_train['PM2_5'], dataset_test['PM2_5']), axis = 0)\n",
        "inputs = dataset_total[len(dataset_total) - len(dataset_test) - 20:].values\n",
        "inputs = inputs.reshape(-1,1)\n",
        "inputs = sc.transform(inputs) # Feature Scaling\n",
        "\n",
        "X_test = []\n",
        "for i in range(20,81): # timesteps一樣60； 80 = 20+61\n",
        "    X_test.append(inputs[i- 20:i, 0])\n",
        "X_test = np.array(X_test)\n",
        "X_test = np.reshape(X_test, (X_test.shape[0], X_test.shape[1], 1))  # Reshape 成 3-dimension"
      ],
      "metadata": {
        "id": "Gq00P6ByL_5j"
      },
      "execution_count": 238,
      "outputs": []
    },
    {
      "cell_type": "code",
      "source": [
        "#進行預測\n",
        "predicted_pm25 = regressor.predict(X_test)\n",
        "predicted_pm25 = sc.inverse_transform(predicted_pm25)  # to get the original scale"
      ],
      "metadata": {
        "colab": {
          "base_uri": "https://localhost:8080/"
        },
        "id": "IkxvJJBwMG_L",
        "outputId": "c8e21e73-366a-44d2-cd46-2a765865186c"
      },
      "execution_count": 239,
      "outputs": [
        {
          "output_type": "stream",
          "name": "stdout",
          "text": [
            "2/2 [==============================] - 2s 32ms/step\n"
          ]
        }
      ]
    },
    {
      "cell_type": "code",
      "source": [
        "# 視覺化結果\n",
        "plt.plot(real_pm25, color = 'red', label = 'Real PM2.5')  # 紅線表示真實股價\n",
        "plt.plot(predicted_pm25, color = 'blue', label = 'Predicted PM2.5')  # 藍線表示預測股價\n",
        "plt.title('PM2.5 Daily Prediction')\n",
        "plt.xlabel('Time')\n",
        "plt.ylabel('PM2.5')\n",
        "plt.legend()\n",
        "plt.show()"
      ],
      "metadata": {
        "colab": {
          "base_uri": "https://localhost:8080/",
          "height": 472
        },
        "id": "rOsjC4zyMG9t",
        "outputId": "ce7cab84-83ab-42d1-93c9-bde2bb9ea795"
      },
      "execution_count": 240,
      "outputs": [
        {
          "output_type": "display_data",
          "data": {
            "text/plain": [
              "<Figure size 640x480 with 1 Axes>"
            ],
            "image/png": "[encoded data removed]"
          },
          "metadata": {}
        }
      ]
    }
  ]
}