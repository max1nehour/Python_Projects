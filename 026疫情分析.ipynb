{
  "nbformat": 4,
  "nbformat_minor": 0,
  "metadata": {
    "colab": {
      "provenance": [],
      "authorship_tag": "ABX9TyPxTmmHKKnh0VgYlp4HBoeE",
      "include_colab_link": true
    },
    "kernelspec": {
      "name": "python3",
      "display_name": "Python 3"
    },
    "language_info": {
      "name": "python"
    }
  },
  "cells": [
    {
      "cell_type": "markdown",
      "metadata": {
        "id": "view-in-github",
        "colab_type": "text"
      },
      "source": [
        "<a href=\"https://colab.research.google.com/github/max1nehour/Python_Projects/blob/main/026%E7%96%AB%E6%83%85%E5%88%86%E6%9E%90.ipynb\" target=\"_parent\"><img src=\"https://colab.research.google.com/assets/colab-badge.svg\" alt=\"Open In Colab\"/></a>"
      ]
    },
    {
      "cell_type": "code",
      "source": [
        "\n",
        "import math\n",
        "\n",
        "def calculate_infections(n, m, a, b, c, d):\n",
        "    today_infected = 0\n",
        "    current_infected = a\n",
        "    immunity_rate = d\n",
        "    recovered = 0\n",
        "    total =a\n",
        "    count=0\n",
        "    tmp = 0\n",
        "    everyday=[]\n",
        "    sum_everyday=[]\n",
        "    print(f\"1 {current_infected} {current_infected} 0\")\n",
        "    everyday.append(current_infected)\n",
        "    sum_everyday.append(current_infected)\n",
        "\n",
        "    for day in range(2, m + 1):\n",
        "\n",
        "        if current_infected < n*(1-d):\n",
        "          x = (b / c) * (1 - immunity_rate)\n",
        "            #print(\"x\",x)\n",
        "          today_infected = sum_everyday[day-2] * x\n",
        "            #print(\"not round:\",today_infected)\n",
        "          today_infected = math.floor(today_infected)\n",
        "          #print(\"round:\",today_infected)\n",
        "          current_infected += today_infected\n",
        "          #print(\"day{},current{}\".format(day,current_infected))\n",
        "        else:\n",
        "          today_infected = 0\n",
        "\n",
        "        if current_infected >=n:\n",
        "\n",
        "          today_infected = n - sum_everyday[day-2]\n",
        "          current_infected = n\n",
        "\n",
        "        if current_infected >=n*(1-d):\n",
        "          #print(\"excess\")\n",
        "          today_infected = math.floor(n*(1-d))- sum_everyday[day-2]\n",
        "          current_infected = math.floor(n*(1-d))\n",
        "\n",
        "        if everyday[day-2] == 0:\n",
        "          current_infected = sum_everyday[day-2]\n",
        "          today_infected = 0\n",
        "\n",
        "\n",
        "        if (day //c )>=1 and day>c:\n",
        "            idx= (day)%c\n",
        "            recovered_today = everyday[day-c-1]\n",
        "        else:\n",
        "          recovered_today = 0\n",
        "\n",
        "        recovered += recovered_today\n",
        "        immunity_rate += recovered_today / n\n",
        "        current_infected -= recovered_today\n",
        "        everyday.append(today_infected)\n",
        "        sum_everyday.append(current_infected)\n",
        "        total += today_infected\n",
        "        print(f\"{day} {current_infected} {today_infected} {recovered_today}\")\n",
        "    print(total)\n",
        "\n"
      ],
      "metadata": {
        "id": "EzcNOm0i3YIj"
      },
      "execution_count": null,
      "outputs": []
    },
    {
      "cell_type": "code",
      "source": [
        "1# 讀取輸入\n",
        "n = int(input())\n",
        "m = int(input())\n",
        "a = int(input())\n",
        "b = float(input())\n",
        "c = int(input())\n",
        "d = float(input())"
      ],
      "metadata": {
        "colab": {
          "base_uri": "https://localhost:8080/"
        },
        "id": "FiqGhSVZd2_e",
        "outputId": "749b47dc-6461-457b-b65c-9dc94a3aac6c"
      },
      "execution_count": null,
      "outputs": [
        {
          "name": "stdout",
          "output_type": "stream",
          "text": [
            "450\n",
            "12\n",
            "120\n",
            "0.2\n",
            "5\n",
            "0.55\n"
          ]
        }
      ]
    },
    {
      "cell_type": "code",
      "source": [
        "# 執行計算\n",
        "calculate_infections(n, m, a, b, c, d)\n"
      ],
      "metadata": {
        "colab": {
          "base_uri": "https://localhost:8080/"
        },
        "id": "RcNbfoeweLsT",
        "outputId": "0fed217c-4f12-46cc-a42d-8db69d50e4e5"
      },
      "execution_count": null,
      "outputs": [
        {
          "output_type": "stream",
          "name": "stdout",
          "text": [
            "1 120 120 0\n",
            "2 122 2 0\n",
            "3 124 2 0\n",
            "4 126 2 0\n",
            "5 128 2 0\n",
            "6 10 2 120\n",
            "7 8 0 2\n",
            "8 6 0 2\n",
            "9 4 0 2\n",
            "10 2 0 2\n",
            "11 0 0 2\n",
            "12 0 0 0\n",
            "130\n"
          ]
        }
      ]
    }
  ]
}