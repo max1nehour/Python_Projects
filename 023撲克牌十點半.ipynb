{
  "nbformat": 4,
  "nbformat_minor": 0,
  "metadata": {
    "colab": {
      "provenance": [],
      "authorship_tag": "ABX9TyMMW21Bq23FMqPALYKTPyOj",
      "include_colab_link": true
    },
    "kernelspec": {
      "name": "python3",
      "display_name": "Python 3"
    },
    "language_info": {
      "name": "python"
    }
  },
  "cells": [
    {
      "cell_type": "markdown",
      "metadata": {
        "id": "view-in-github",
        "colab_type": "text"
      },
      "source": [
        "<a href=\"https://colab.research.google.com/github/max1nehour/Python_Projects/blob/main/023%E6%92%B2%E5%85%8B%E7%89%8C%E5%8D%81%E9%BB%9E%E5%8D%8A.ipynb\" target=\"_parent\"><img src=\"https://colab.research.google.com/assets/colab-badge.svg\" alt=\"Open In Colab\"/></a>"
      ]
    },
    {
      "cell_type": "code",
      "source": [
        "points = {'2': 2, '3': 3, '4': 4, '5': 5, '6': 6, '7': 7, '8': 8, '9': 9, '10': 10, 'J': 0.5, 'Q': 0.5, 'K': 0.5, 'A': 1}\n",
        "\n",
        "def pt(x):\n",
        "  computer_pt= points[x]\n",
        "  return computer_pt"
      ],
      "metadata": {
        "id": "dzDEa1zkQPhX"
      },
      "execution_count": null,
      "outputs": []
    },
    {
      "cell_type": "code",
      "source": [
        "def sumandcheck(x,y):\n",
        "  sum_comp_pt = 0\n",
        "  sum_player_pt = 0\n",
        "  for i in x:\n",
        "    sum_comp_pt +=i\n",
        "  for i in y:\n",
        "    sum_player_pt +=i\n",
        "\n",
        "  if sum_comp_pt > 10.5 or sum_player_pt == 10.5:\n",
        "    print(\"player win\")\n",
        "    return 1\n",
        "  elif sum_player_pt > 10.5 or sum_comp_pt == 10.5:\n",
        "    print(\"computer win\")\n",
        "    return 2\n",
        "  elif sum_player_pt == sum_comp_pt:\n",
        "    print(\"it's a tie\")\n",
        "    return 3\n",
        "  elif sum_comp_pt <=8 or sum_comp_pt < sum_player_pt:\n",
        "    return 4\n",
        "  else:\n",
        "    return 0"
      ],
      "metadata": {
        "id": "pwtrwtYjiz11"
      },
      "execution_count": null,
      "outputs": []
    },
    {
      "cell_type": "code",
      "execution_count": null,
      "metadata": {
        "id": "xmKl8AR9Nlea",
        "colab": {
          "base_uri": "https://localhost:8080/"
        },
        "outputId": "9725a7b5-ad56-4e9b-c36c-75d13a72a174"
      },
      "outputs": [
        {
          "name": "stdout",
          "output_type": "stream",
          "text": [
            "A\n",
            "J\n",
            "Y\n",
            "9\n"
          ]
        }
      ],
      "source": [
        "\n",
        "player_pt =[]\n",
        "computer_pt = []\n",
        "\n",
        "player1= str(input())\n",
        "player_pt.append(pt(player1))\n",
        "computer1 = str(input())\n",
        "computer_pt.append(pt(computer1))\n",
        "\n",
        "\n",
        "i,k=0,0\n",
        "\n",
        "while i ==0:\n",
        "  if k == 0:\n",
        "    want = str(input())\n",
        "    if want == 'Y':\n",
        "      player2 = str(input())\n",
        "      player_pt.append(pt(player2))\n",
        "      sumandcheck(computer_pt,player_pt)\n",
        "      if sumandcheck(computer_pt,player_pt) !=0:\n",
        "        break\n",
        "\n",
        "      if sumandcheck(computer_pt,player_pt) ==4:\n",
        "        computer2 = str(input())\n",
        "        computer_pt.append(pt(computer2))\n",
        "        sumandcheck(computer_pt,player_pt)\n",
        "      if sumandcheck(computer_pt,player_pt) !=0:\n",
        "        break\n",
        "    elif want == 'N' and sumandcheck(computer_pt,player_pt) ==4:\n",
        "      computer2 = str(input())\n",
        "      computer_pt.append(pt(computer2))\n",
        "      sumandcheck(computer_pt,player_pt)\n",
        "    if sumandcheck(computer_pt,player_pt) !=0:\n",
        "      break\n",
        "      k+=1\n",
        "  elif k>=1 and sumandcheck(computer_pt,player_pt) ==4:\n",
        "    want = 'N'\n",
        "    computer2 = str(input())\n",
        "    computer_pt.append(pt(computer2))\n",
        "  if sumandcheck(computer_pt,player_pt) !=0:\n",
        "    break\n",
        "\n"
      ]
    }
  ]
}