{
  "nbformat": 4,
  "nbformat_minor": 0,
  "metadata": {
    "colab": {
      "provenance": [],
      "authorship_tag": "ABX9TyNZ7z4P/USkAHFoLHyVHWfz",
      "include_colab_link": true
    },
    "kernelspec": {
      "name": "python3",
      "display_name": "Python 3"
    },
    "language_info": {
      "name": "python"
    }
  },
  "cells": [
    {
      "cell_type": "markdown",
      "metadata": {
        "id": "view-in-github",
        "colab_type": "text"
      },
      "source": [
        "<a href=\"https://colab.research.google.com/github/max1nehour/Python_Projects/blob/main/020%E6%95%B8%E5%AD%97%E7%9F%A9%E9%99%A3.ipynb\" target=\"_parent\"><img src=\"https://colab.research.google.com/assets/colab-badge.svg\" alt=\"Open In Colab\"/></a>"
      ]
    },
    {
      "cell_type": "code",
      "execution_count": null,
      "metadata": {
        "colab": {
          "base_uri": "https://localhost:8080/"
        },
        "id": "ViiP3fS_DdMf",
        "outputId": "065f0da1-d49e-45bc-8ba2-8bf6c8e0a54f"
      },
      "outputs": [
        {
          "output_type": "stream",
          "name": "stdout",
          "text": [
            "4\n",
            "RLRRRLR\n",
            "4 8 12 16\n",
            "3 7 11 15\n",
            "2 6 10 14\n",
            "1 5 9 13\n"
          ]
        }
      ],
      "source": [
        "def create_initial_matrix(n):\n",
        "    matrix = [[0 for _ in range(n)] for _ in range(n)]\n",
        "    num = 1\n",
        "    for i in range(n):\n",
        "        for j in range(n):\n",
        "            matrix[i][j] = num\n",
        "            num += 1\n",
        "    return matrix\n",
        "\n",
        "# Function to rotate the matrix 90 degrees counterclockwise\n",
        "def rotate_counterclockwise(matrix):\n",
        "    n = len(matrix)\n",
        "    new_matrix = [[0 for _ in range(n)] for _ in range(n)]\n",
        "    for i in range(n):\n",
        "        for j in range(n):\n",
        "            new_matrix[i][j] = matrix[j][n - 1 - i]\n",
        "    return new_matrix\n",
        "\n",
        "# Function to rotate the matrix 90 degrees clockwise\n",
        "def rotate_clockwise(matrix):\n",
        "    n = len(matrix)\n",
        "    new_matrix = [[0 for _ in range(n)] for _ in range(n)]\n",
        "    for i in range(n):\n",
        "        for j in range(n):\n",
        "            new_matrix[i][j] = matrix[n - 1 - j][i]\n",
        "    return new_matrix\n",
        "\n",
        "# Main function\n",
        "def main():\n",
        "    n = int(input())\n",
        "    operations = input()\n",
        "\n",
        "    initial_matrix = create_initial_matrix(n)\n",
        "    result_matrix = initial_matrix\n",
        "\n",
        "    for op in operations:\n",
        "        if op == 'L':\n",
        "            result_matrix = rotate_counterclockwise(result_matrix)\n",
        "        elif op == 'R':\n",
        "            result_matrix = rotate_clockwise(result_matrix)\n",
        "\n",
        "    for row in result_matrix:\n",
        "        print(\" \".join(map(str, row)))\n",
        "\n",
        "main()"
      ]
    }
  ]
}