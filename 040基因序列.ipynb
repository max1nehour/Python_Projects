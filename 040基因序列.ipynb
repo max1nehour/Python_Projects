{
  "nbformat": 4,
  "nbformat_minor": 0,
  "metadata": {
    "colab": {
      "provenance": [],
      "authorship_tag": "ABX9TyOtq7hSixSTCFE5xaLBviuU",
      "include_colab_link": true
    },
    "kernelspec": {
      "name": "python3",
      "display_name": "Python 3"
    },
    "language_info": {
      "name": "python"
    }
  },
  "cells": [
    {
      "cell_type": "markdown",
      "metadata": {
        "id": "view-in-github",
        "colab_type": "text"
      },
      "source": [
        "<a href=\"https://colab.research.google.com/github/max1nehour/Python_Projects/blob/main/040%E5%9F%BA%E5%9B%A0%E5%BA%8F%E5%88%97.ipynb\" target=\"_parent\"><img src=\"https://colab.research.google.com/assets/colab-badge.svg\" alt=\"Open In Colab\"/></a>"
      ]
    },
    {
      "cell_type": "code",
      "execution_count": null,
      "metadata": {
        "id": "inQ2A4hhpKLl"
      },
      "outputs": [],
      "source": [
        "#line1 = str(input()) #front*1\n",
        "#line2 = str(input()) #back*3\n",
        "#line3 = str(input()) #seq"
      ]
    },
    {
      "cell_type": "code",
      "source": [
        "front = 'AETG'\n",
        "rear = 'TAG TAA TGA'\n",
        "rear = rear.split(\" \")\n",
        "seq = 'AETGTTTTAGAETGCTATGAAETGACGTTTAAAETGACCCATAG'"
      ],
      "metadata": {
        "id": "FN07daxxG87i"
      },
      "execution_count": null,
      "outputs": []
    },
    {
      "cell_type": "code",
      "source": [
        "def findfront(seq,front):\n",
        "  if front in seq:\n",
        "    #print(front)\n",
        "    seq2 = list(seq)\n",
        "    start = seq2.index(front[-1])\n",
        "    print(\"start\",start)\n",
        "    return start\n",
        "  else: return False"
      ],
      "metadata": {
        "id": "aIQQaqBQHNgq"
      },
      "execution_count": null,
      "outputs": []
    },
    {
      "cell_type": "code",
      "source": [
        "def findfront2(seq,front):\n",
        "  for i in range(len(seq)):\n",
        "    if front in seq:\n",
        "      print(\"seq\",seq)\n",
        "      seq2 = list(seq)\n",
        "      print(seq2)\n",
        "      start = seq2.index(front[-1])+1\n",
        "      seq2.insert(start,\"/\")\n",
        "      print(\"seq2\",seq2)\n",
        "      seq = seq[start:]\n",
        "    else: return False\n",
        "findfront2(seq,front)"
      ],
      "metadata": {
        "colab": {
          "base_uri": "https://localhost:8080/"
        },
        "id": "_HC4dFacQFkd",
        "outputId": "718b3c8f-3bf4-4964-8b4d-7bec12f0cc1c"
      },
      "execution_count": null,
      "outputs": [
        {
          "output_type": "stream",
          "name": "stdout",
          "text": [
            "seq AETGTTTTAGAETGCTATGAAETGACGTTTAAAETGACCCATAG\n",
            "['A', 'E', 'T', 'G', 'T', 'T', 'T', 'T', 'A', 'G', 'A', 'E', 'T', 'G', 'C', 'T', 'A', 'T', 'G', 'A', 'A', 'E', 'T', 'G', 'A', 'C', 'G', 'T', 'T', 'T', 'A', 'A', 'A', 'E', 'T', 'G', 'A', 'C', 'C', 'C', 'A', 'T', 'A', 'G']\n",
            "seq2 ['A', 'E', 'T', 'G', '/', 'T', 'T', 'T', 'T', 'A', 'G', 'A', 'E', 'T', 'G', 'C', 'T', 'A', 'T', 'G', 'A', 'A', 'E', 'T', 'G', 'A', 'C', 'G', 'T', 'T', 'T', 'A', 'A', 'A', 'E', 'T', 'G', 'A', 'C', 'C', 'C', 'A', 'T', 'A', 'G']\n",
            "seq TTTTAGAETGCTATGAAETGACGTTTAAAETGACCCATAG\n",
            "['T', 'T', 'T', 'T', 'A', 'G', 'A', 'E', 'T', 'G', 'C', 'T', 'A', 'T', 'G', 'A', 'A', 'E', 'T', 'G', 'A', 'C', 'G', 'T', 'T', 'T', 'A', 'A', 'A', 'E', 'T', 'G', 'A', 'C', 'C', 'C', 'A', 'T', 'A', 'G']\n",
            "seq2 ['T', 'T', 'T', 'T', 'A', 'G', '/', 'A', 'E', 'T', 'G', 'C', 'T', 'A', 'T', 'G', 'A', 'A', 'E', 'T', 'G', 'A', 'C', 'G', 'T', 'T', 'T', 'A', 'A', 'A', 'E', 'T', 'G', 'A', 'C', 'C', 'C', 'A', 'T', 'A', 'G']\n",
            "seq AETGCTATGAAETGACGTTTAAAETGACCCATAG\n",
            "['A', 'E', 'T', 'G', 'C', 'T', 'A', 'T', 'G', 'A', 'A', 'E', 'T', 'G', 'A', 'C', 'G', 'T', 'T', 'T', 'A', 'A', 'A', 'E', 'T', 'G', 'A', 'C', 'C', 'C', 'A', 'T', 'A', 'G']\n",
            "seq2 ['A', 'E', 'T', 'G', '/', 'C', 'T', 'A', 'T', 'G', 'A', 'A', 'E', 'T', 'G', 'A', 'C', 'G', 'T', 'T', 'T', 'A', 'A', 'A', 'E', 'T', 'G', 'A', 'C', 'C', 'C', 'A', 'T', 'A', 'G']\n",
            "seq CTATGAAETGACGTTTAAAETGACCCATAG\n",
            "['C', 'T', 'A', 'T', 'G', 'A', 'A', 'E', 'T', 'G', 'A', 'C', 'G', 'T', 'T', 'T', 'A', 'A', 'A', 'E', 'T', 'G', 'A', 'C', 'C', 'C', 'A', 'T', 'A', 'G']\n",
            "seq2 ['C', 'T', 'A', 'T', 'G', '/', 'A', 'A', 'E', 'T', 'G', 'A', 'C', 'G', 'T', 'T', 'T', 'A', 'A', 'A', 'E', 'T', 'G', 'A', 'C', 'C', 'C', 'A', 'T', 'A', 'G']\n",
            "seq AAETGACGTTTAAAETGACCCATAG\n",
            "['A', 'A', 'E', 'T', 'G', 'A', 'C', 'G', 'T', 'T', 'T', 'A', 'A', 'A', 'E', 'T', 'G', 'A', 'C', 'C', 'C', 'A', 'T', 'A', 'G']\n",
            "seq2 ['A', 'A', 'E', 'T', 'G', '/', 'A', 'C', 'G', 'T', 'T', 'T', 'A', 'A', 'A', 'E', 'T', 'G', 'A', 'C', 'C', 'C', 'A', 'T', 'A', 'G']\n",
            "seq ACGTTTAAAETGACCCATAG\n",
            "['A', 'C', 'G', 'T', 'T', 'T', 'A', 'A', 'A', 'E', 'T', 'G', 'A', 'C', 'C', 'C', 'A', 'T', 'A', 'G']\n",
            "seq2 ['A', 'C', 'G', '/', 'T', 'T', 'T', 'A', 'A', 'A', 'E', 'T', 'G', 'A', 'C', 'C', 'C', 'A', 'T', 'A', 'G']\n",
            "seq TTTAAAETGACCCATAG\n",
            "['T', 'T', 'T', 'A', 'A', 'A', 'E', 'T', 'G', 'A', 'C', 'C', 'C', 'A', 'T', 'A', 'G']\n",
            "seq2 ['T', 'T', 'T', 'A', 'A', 'A', 'E', 'T', 'G', '/', 'A', 'C', 'C', 'C', 'A', 'T', 'A', 'G']\n"
          ]
        },
        {
          "output_type": "execute_result",
          "data": {
            "text/plain": [
              "False"
            ]
          },
          "metadata": {},
          "execution_count": 52
        }
      ]
    },
    {
      "cell_type": "code",
      "source": [],
      "metadata": {
        "id": "ELeazM6plZ1X"
      },
      "execution_count": null,
      "outputs": []
    },
    {
      "cell_type": "code",
      "source": [
        "def findrear2(seq2,rear):\n",
        "  end_list = []\n",
        "  for r in rear:\n",
        "    if r in seq2:\n",
        "      end = seq2.index(r)\n",
        "      seq2.insert(end,\"/\")\n",
        "      seq2.insert(end+4,\"/\")\n",
        "      print(\"seq2:\",seq2)\n",
        "      return seq2 #第一個end\n",
        "    else:\n",
        "      return False"
      ],
      "metadata": {
        "id": "KttunmhSQx-i"
      },
      "execution_count": null,
      "outputs": []
    },
    {
      "cell_type": "code",
      "source": [
        "def findrear(seq,rear):\n",
        "  end_list = []\n",
        "  for r in rear:\n",
        "    if r in seq:\n",
        "      #print(r)\n",
        "      seq2 = list(seq)\n",
        "      end = seq2.index(r[0])\n",
        "      end_list.append([end,r])\n",
        "      end_sort = sorted(end_list, key= lambda x: x[1])\n",
        "      print(\"end\",end_sort[0][0])\n",
        "      return end_sort[0][0] #第一個end\n",
        "    else:\n",
        "      return False"
      ],
      "metadata": {
        "id": "V5MufE1aIj_1"
      },
      "execution_count": null,
      "outputs": []
    },
    {
      "cell_type": "code",
      "source": [
        "idx = []\n",
        "for i in range(len(seq)):\n",
        "  print(\"seq:\",seq)\n",
        "  idxF = findfront(seq,front)+1\n",
        "  idxR = findrear(seq,rear)\n",
        "  idx.append([idxF,idxR])\n",
        "  seq = seq[idxR+3:] #把已經有基因的片段去掉\n",
        "print(idx)\n",
        "\n",
        "#if idxR == False or idxF ==False :\n",
        "  #print(\"No gene\")\n",
        "#else:\n",
        "  #print(seq[idxF:idxR])"
      ],
      "metadata": {
        "colab": {
          "base_uri": "https://localhost:8080/"
        },
        "id": "wjA_qrp8KpwP",
        "outputId": "8b6718d3-6391-4045-a69e-98dd639328c0"
      },
      "execution_count": null,
      "outputs": [
        {
          "output_type": "stream",
          "name": "stdout",
          "text": [
            "seq: AETGTTTTAGAETGCTATGAAETGACGTTTAAAETGACCCATAG\n",
            "start 3\n",
            "end 2\n",
            "seq: TTTAGAETGCTATGAAETGACGTTTAAAETGACCCATAG\n",
            "start 4\n",
            "end 0\n",
            "seq: AGAETGCTATGAAETGACGTTTAAAETGACCCATAG\n",
            "start 1\n",
            "end 4\n",
            "seq: TATGAAETGACGTTTAAAETGACCCATAG\n",
            "start 3\n",
            "end 0\n",
            "seq: GAAETGACGTTTAAAETGACCCATAG\n",
            "start 0\n",
            "end 4\n",
            "seq: CGTTTAAAETGACCCATAG\n",
            "start 1\n",
            "end 2\n",
            "seq: AAAETGACCCATAG\n",
            "start 5\n",
            "end 4\n",
            "seq: CCCATAG\n",
            "end 4\n",
            "seq: \n",
            "seq: \n",
            "seq: \n",
            "seq: \n",
            "seq: \n",
            "seq: \n",
            "seq: \n",
            "seq: \n",
            "seq: \n",
            "seq: \n",
            "seq: \n",
            "seq: \n",
            "seq: \n",
            "seq: \n",
            "seq: \n",
            "seq: \n",
            "seq: \n",
            "seq: \n",
            "seq: \n",
            "seq: \n",
            "seq: \n",
            "seq: \n",
            "seq: \n",
            "seq: \n",
            "seq: \n",
            "seq: \n",
            "seq: \n",
            "seq: \n",
            "seq: \n",
            "seq: \n",
            "seq: \n",
            "seq: \n",
            "seq: \n",
            "seq: \n",
            "seq: \n",
            "seq: \n",
            "[[4, 2], [5, 0], [2, 4], [4, 0], [1, 4], [2, 2], [6, 4], [1, 4], [1, False], [1, False], [1, False], [1, False], [1, False], [1, False], [1, False], [1, False], [1, False], [1, False], [1, False], [1, False], [1, False], [1, False], [1, False], [1, False], [1, False], [1, False], [1, False], [1, False], [1, False], [1, False], [1, False], [1, False], [1, False], [1, False], [1, False], [1, False], [1, False], [1, False], [1, False], [1, False], [1, False], [1, False], [1, False], [1, False]]\n"
          ]
        }
      ]
    },
    {
      "cell_type": "code",
      "source": [
        "idx = []\n",
        "i =1\n",
        "while i >0:\n",
        "  seq2 = findfront2(seq,front)\n",
        "  print(seq2)\n",
        "  if seq2 == False:\n",
        "    findrear2(seq2,rear)\n",
        "  else:\n",
        "    findrear2(seq2,rear)"
      ],
      "metadata": {
        "colab": {
          "base_uri": "https://localhost:8080/",
          "height": 357
        },
        "id": "vOYpho-ULkKl",
        "outputId": "2368f000-d29f-4a02-d404-62f71fd8d21f"
      },
      "execution_count": null,
      "outputs": [
        {
          "output_type": "stream",
          "name": "stdout",
          "text": [
            "False\n"
          ]
        },
        {
          "output_type": "error",
          "ename": "TypeError",
          "evalue": "argument of type 'bool' is not iterable",
          "traceback": [
            "\u001b[0;31m---------------------------------------------------------------------------\u001b[0m",
            "\u001b[0;31mTypeError\u001b[0m                                 Traceback (most recent call last)",
            "\u001b[0;32m<ipython-input-39-4bd61e8c7b3a>\u001b[0m in \u001b[0;36m<cell line: 3>\u001b[0;34m()\u001b[0m\n\u001b[1;32m      4\u001b[0m   \u001b[0mseq2\u001b[0m \u001b[0;34m=\u001b[0m \u001b[0mfindfront2\u001b[0m\u001b[0;34m(\u001b[0m\u001b[0mseq\u001b[0m\u001b[0;34m,\u001b[0m\u001b[0mfront\u001b[0m\u001b[0;34m)\u001b[0m\u001b[0;34m\u001b[0m\u001b[0;34m\u001b[0m\u001b[0m\n\u001b[1;32m      5\u001b[0m   \u001b[0mprint\u001b[0m\u001b[0;34m(\u001b[0m\u001b[0mseq2\u001b[0m\u001b[0;34m)\u001b[0m\u001b[0;34m\u001b[0m\u001b[0;34m\u001b[0m\u001b[0m\n\u001b[0;32m----> 6\u001b[0;31m   \u001b[0mfindrear2\u001b[0m\u001b[0;34m(\u001b[0m\u001b[0mseq2\u001b[0m\u001b[0;34m,\u001b[0m\u001b[0mrear\u001b[0m\u001b[0;34m)\u001b[0m\u001b[0;34m\u001b[0m\u001b[0;34m\u001b[0m\u001b[0m\n\u001b[0m",
            "\u001b[0;32m<ipython-input-32-34747e4d29e4>\u001b[0m in \u001b[0;36mfindrear2\u001b[0;34m(seq2, rear)\u001b[0m\n\u001b[1;32m      2\u001b[0m   \u001b[0mend_list\u001b[0m \u001b[0;34m=\u001b[0m \u001b[0;34m[\u001b[0m\u001b[0;34m]\u001b[0m\u001b[0;34m\u001b[0m\u001b[0;34m\u001b[0m\u001b[0m\n\u001b[1;32m      3\u001b[0m   \u001b[0;32mfor\u001b[0m \u001b[0mr\u001b[0m \u001b[0;32min\u001b[0m \u001b[0mrear\u001b[0m\u001b[0;34m:\u001b[0m\u001b[0;34m\u001b[0m\u001b[0;34m\u001b[0m\u001b[0m\n\u001b[0;32m----> 4\u001b[0;31m     \u001b[0;32mif\u001b[0m \u001b[0mr\u001b[0m \u001b[0;32min\u001b[0m \u001b[0mseq2\u001b[0m\u001b[0;34m:\u001b[0m\u001b[0;34m\u001b[0m\u001b[0;34m\u001b[0m\u001b[0m\n\u001b[0m\u001b[1;32m      5\u001b[0m       \u001b[0mend\u001b[0m \u001b[0;34m=\u001b[0m \u001b[0mseq2\u001b[0m\u001b[0;34m.\u001b[0m\u001b[0mindex\u001b[0m\u001b[0;34m(\u001b[0m\u001b[0mr\u001b[0m\u001b[0;34m)\u001b[0m\u001b[0;34m\u001b[0m\u001b[0;34m\u001b[0m\u001b[0m\n\u001b[1;32m      6\u001b[0m       \u001b[0mseq2\u001b[0m\u001b[0;34m.\u001b[0m\u001b[0minsert\u001b[0m\u001b[0;34m(\u001b[0m\u001b[0mend\u001b[0m\u001b[0;34m,\u001b[0m\u001b[0;34m\"/\"\u001b[0m\u001b[0;34m)\u001b[0m\u001b[0;34m\u001b[0m\u001b[0;34m\u001b[0m\u001b[0m\n",
            "\u001b[0;31mTypeError\u001b[0m: argument of type 'bool' is not iterable"
          ]
        }
      ]
    },
    {
      "cell_type": "code",
      "source": [
        "def is_prime(n):\n",
        "  for i in range(2,n):\n",
        "    if n%i == 0:\n",
        "      return False\n",
        "    else:return True\n",
        "\n",
        "def find_genes(prefix, suffixes, dna_sequence):\n",
        "    genes = set()\n",
        "\n",
        "    for i in range(len(dna_sequence)):\n",
        "        if dna_sequence[i:i+len(prefix)] == prefix: #FIND PREFIX\n",
        "            start_index = i+len(prefix)\n",
        "            print(\"prefix\",start_index)\n",
        "            for j in range (i+len(prefix),len(dna_sequence)+1): #從prefix之後到seq最後一個\n",
        "              for suffix in suffixes:\n",
        "                if dna_sequence[j:j+len(suffix)] == suffix:\n",
        "                  end_index = j\n",
        "                  print(\"suffix\", end_index)\n",
        "                  gene_candidate = dna_sequence[start_index:end_index] #GENE\n",
        "                  print(\"candidate\",gene_candidate)\n",
        "                # Check if gene length is prime and does not contain prefix or suffix\n",
        "                  if is_prime(len(gene_candidate)) and prefix not in gene_candidate and suffix not in gene_candidate:\n",
        "                    genes.add(gene_candidate)\n",
        "                    break\n",
        "    genes = list(genes)\n",
        "    genes = sorted(list(genes),key = lambda x:x[0])\n",
        "    genes = sorted(genes,key = lambda x:len(x), reverse= True)\n",
        "    return genes\n",
        "\n",
        "# 測試資料二\n",
        "prefix = \"AETG\"\n",
        "suffixes = [\"TAG\", \"TAA\", \"TGA\"]\n",
        "dna_sequence = \"AETGTTTTAGAETGCTATGAAETGACGTTTAAAETGACCCATAG\"\n",
        "result = find_genes(prefix, suffixes, dna_sequence)\n",
        "if len(result)>0:\n",
        "    print(result)\n",
        "else:\n",
        "    print(\"No gene\")"
      ],
      "metadata": {
        "id": "PLE-nz1hla3b"
      },
      "execution_count": null,
      "outputs": []
    },
    {
      "cell_type": "code",
      "source": [
        "# 測試資料二\n",
        "prefix = \"ACA\"\n",
        "suffixes = [\"CAG\", \"TCA\", \"AGT\"]\n",
        "dna_sequence = \"ACATTTTACGCT\"\n",
        "result = find_genes(prefix, suffixes, dna_sequence)\n",
        "if result:\n",
        "    for gene in result:\n",
        "        print(gene)\n",
        "else:\n",
        "    print(\"No gene\")\n",
        "\n",
        "# 測試資料三\n",
        "prefix = \"AETG\"\n",
        "suffixes = [\"TAG\", \"TAA\", \"TGA\"]\n",
        "dna_sequence = \"AETGTTTTAGAETGCTATGAAETGACGTTTAAAETGACCCATAG\"\n",
        "result = find_genes(prefix, suffixes, dna_sequence)\n",
        "if result:\n",
        "    for gene in result:\n",
        "        print(gene)\n",
        "else:\n",
        "    print(\"No gene\")\n",
        "\n",
        "# 測試資料四\n",
        "prefix = \"AKLG\"\n",
        "suffixes = [\"GAT\", \"GTA\", \"CAT\"]\n",
        "dna_sequence = \"AKLGCCCTAGTAAKLGTTTAAACCATAKLGGGGGTAAKLGCTGGAT\"\n",
        "result = find_genes(prefix, suffixes, dna_sequence)\n",
        "if result:\n",
        "    for gene in result:\n",
        "        print(gene)\n",
        "else:\n",
        "    print(\"No gene\")"
      ],
      "metadata": {
        "id": "uq5e2AFiVipS"
      },
      "execution_count": null,
      "outputs": []
    }
  ]
}