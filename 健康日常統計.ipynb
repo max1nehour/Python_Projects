{
  "cells": [
    {
      "cell_type": "markdown",
      "metadata": {
        "id": "view-in-github",
        "colab_type": "text"
      },
      "source": [
        "<a href=\"https://colab.research.google.com/github/max1nehour/Python_projects/blob/main/%E5%81%A5%E5%BA%B7%E6%97%A5%E5%B8%B8%E7%B5%B1%E8%A8%88.ipynb\" target=\"_parent\"><img src=\"https://colab.research.google.com/assets/colab-badge.svg\" alt=\"Open In Colab\"/></a>"
      ]
    },
    {
      "cell_type": "code",
      "execution_count": 2,
      "metadata": {
        "colab": {
          "base_uri": "https://localhost:8080/",
          "height": 943
        },
        "id": "255oyr-pbYQL",
        "outputId": "31a66112-9d6a-4a3e-da68-ae21f78ccb9c"
      },
      "outputs": [
        {
          "output_type": "stream",
          "name": "stdout",
          "text": [
            "--身心健康日記--\n",
            "\n",
            "\n",
            "-----Monday---\n",
            "\n",
            "今天過得好嗎？\n",
            "使用手機的狀況如何呢？\n",
            "\n",
            "請輸入今日螢幕使用時間（小時）:4\n",
            "\n",
            "今天做了多久的運動呢？\n",
            "\n",
            "請輸入今天的運動時數（小時):3\n",
            "\n",
            "昨晚約幾點幾分入睡呢?（以24小時制表示，例如23:15)\n",
            "幾點:24\n",
            "幾分:15\n",
            "\n",
            "今天約幾點幾分起床？(例如08:10)\n",
            "幾點:08\n",
            "幾分:30\n",
            "\n",
            "現在替您計算睡眠時數...\n",
            "\n",
            "Monday睡眠時數為:9小時15分鐘\n",
            "\n",
            "-----Tuesday---\n",
            "\n",
            "今天過得好嗎？\n",
            "使用手機的狀況如何呢？\n",
            "\n"
          ]
        },
        {
          "output_type": "error",
          "ename": "KeyboardInterrupt",
          "evalue": "ignored",
          "traceback": [
            "\u001b[0;31m---------------------------------------------------------------------------\u001b[0m",
            "\u001b[0;31mKeyboardInterrupt\u001b[0m                         Traceback (most recent call last)",
            "\u001b[0;32m<ipython-input-2-c6dd439a7356>\u001b[0m in \u001b[0;36m<module>\u001b[0;34m\u001b[0m\n\u001b[1;32m     20\u001b[0m     \u001b[0;31m#手機使用時間\u001b[0m\u001b[0;34m\u001b[0m\u001b[0;34m\u001b[0m\u001b[0m\n\u001b[1;32m     21\u001b[0m     \u001b[0mprint\u001b[0m\u001b[0;34m(\u001b[0m\u001b[0;34m'使用手機的狀況如何呢？\\n'\u001b[0m\u001b[0;34m)\u001b[0m\u001b[0;34m\u001b[0m\u001b[0;34m\u001b[0m\u001b[0m\n\u001b[0;32m---> 22\u001b[0;31m     \u001b[0mscreen1\u001b[0m \u001b[0;34m=\u001b[0m \u001b[0mint\u001b[0m\u001b[0;34m(\u001b[0m\u001b[0minput\u001b[0m\u001b[0;34m(\u001b[0m\u001b[0;34m'請輸入今日螢幕使用時間（小時）:'\u001b[0m\u001b[0;34m)\u001b[0m\u001b[0;34m)\u001b[0m    \u001b[0;31m#「手機使用時間」為輸入值，並轉為整數\u001b[0m\u001b[0;34m\u001b[0m\u001b[0;34m\u001b[0m\u001b[0m\n\u001b[0m\u001b[1;32m     23\u001b[0m \u001b[0;34m\u001b[0m\u001b[0m\n\u001b[1;32m     24\u001b[0m     \u001b[0;31m#運動時數\u001b[0m\u001b[0;34m\u001b[0m\u001b[0;34m\u001b[0m\u001b[0m\n",
            "\u001b[0;32m/usr/local/lib/python3.9/dist-packages/ipykernel/kernelbase.py\u001b[0m in \u001b[0;36mraw_input\u001b[0;34m(self, prompt)\u001b[0m\n\u001b[1;32m    858\u001b[0m                 \u001b[0;34m\"raw_input was called, but this frontend does not support input requests.\"\u001b[0m\u001b[0;34m\u001b[0m\u001b[0;34m\u001b[0m\u001b[0m\n\u001b[1;32m    859\u001b[0m             )\n\u001b[0;32m--> 860\u001b[0;31m         return self._input_request(str(prompt),\n\u001b[0m\u001b[1;32m    861\u001b[0m             \u001b[0mself\u001b[0m\u001b[0;34m.\u001b[0m\u001b[0m_parent_ident\u001b[0m\u001b[0;34m,\u001b[0m\u001b[0;34m\u001b[0m\u001b[0;34m\u001b[0m\u001b[0m\n\u001b[1;32m    862\u001b[0m             \u001b[0mself\u001b[0m\u001b[0;34m.\u001b[0m\u001b[0m_parent_header\u001b[0m\u001b[0;34m,\u001b[0m\u001b[0;34m\u001b[0m\u001b[0;34m\u001b[0m\u001b[0m\n",
            "\u001b[0;32m/usr/local/lib/python3.9/dist-packages/ipykernel/kernelbase.py\u001b[0m in \u001b[0;36m_input_request\u001b[0;34m(self, prompt, ident, parent, password)\u001b[0m\n\u001b[1;32m    902\u001b[0m             \u001b[0;32mexcept\u001b[0m \u001b[0mKeyboardInterrupt\u001b[0m\u001b[0;34m:\u001b[0m\u001b[0;34m\u001b[0m\u001b[0;34m\u001b[0m\u001b[0m\n\u001b[1;32m    903\u001b[0m                 \u001b[0;31m# re-raise KeyboardInterrupt, to truncate traceback\u001b[0m\u001b[0;34m\u001b[0m\u001b[0;34m\u001b[0m\u001b[0m\n\u001b[0;32m--> 904\u001b[0;31m                 \u001b[0;32mraise\u001b[0m \u001b[0mKeyboardInterrupt\u001b[0m\u001b[0;34m(\u001b[0m\u001b[0;34m\"Interrupted by user\"\u001b[0m\u001b[0;34m)\u001b[0m \u001b[0;32mfrom\u001b[0m \u001b[0;32mNone\u001b[0m\u001b[0;34m\u001b[0m\u001b[0;34m\u001b[0m\u001b[0m\n\u001b[0m\u001b[1;32m    905\u001b[0m             \u001b[0;32mexcept\u001b[0m \u001b[0mException\u001b[0m \u001b[0;32mas\u001b[0m \u001b[0me\u001b[0m\u001b[0;34m:\u001b[0m\u001b[0;34m\u001b[0m\u001b[0;34m\u001b[0m\u001b[0m\n\u001b[1;32m    906\u001b[0m                 \u001b[0mself\u001b[0m\u001b[0;34m.\u001b[0m\u001b[0mlog\u001b[0m\u001b[0;34m.\u001b[0m\u001b[0mwarning\u001b[0m\u001b[0;34m(\u001b[0m\u001b[0;34m\"Invalid Message:\"\u001b[0m\u001b[0;34m,\u001b[0m \u001b[0mexc_info\u001b[0m\u001b[0;34m=\u001b[0m\u001b[0;32mTrue\u001b[0m\u001b[0;34m)\u001b[0m\u001b[0;34m\u001b[0m\u001b[0;34m\u001b[0m\u001b[0m\n",
            "\u001b[0;31mKeyboardInterrupt\u001b[0m: Interrupted by user"
          ]
        }
      ],
      "source": [
        "import matplotlib.pyplot as plt #匯入matplotlib套件，設定別名為plt\n",
        "import numpy as np #匯入numpy套件，設定別名為np\n",
        "\n",
        "sleeplist=[]  #定義「睡眠時間」串列為空串列\n",
        "workoutlist=[] #定義「運動時間」串列為空串列\n",
        "screenlist=[] #定義「螢幕時間」串列為空串列\n",
        "days= ['Monday', 'Tuesday', 'Wednesday','Thursday', 'Friday','Saturday','Sunday']  #字串日子為週一至週日\n",
        "\n",
        "#開頭問候\n",
        "\n",
        "print('--身心健康日記--\\n') \n",
        "\n",
        "#執行for迴圈，變數i在串列days\n",
        "\n",
        "for i in days :\n",
        "\n",
        "    print('\\n-----{}---\\n'.format(i))     #格式化參數i，從星期一開始列印\n",
        "    print('今天過得好嗎？')\n",
        "\n",
        "    #手機使用時間\n",
        "    print('使用手機的狀況如何呢？\\n')\n",
        "    screen1 = int(input('請輸入今日螢幕使用時間（小時）:'))    #「手機使用時間」為輸入值，並轉為整數\n",
        "\n",
        "    #運動時數\n",
        "    print('\\n今天做了多久的運動呢？\\n')\n",
        "    workout= int(input('請輸入今天的運動時數（小時):'))    #「運動時數」為輸入值，並轉為整數\n",
        "\n",
        "    #睡眠時數\n",
        "    print('\\n昨晚約幾點幾分入睡呢?（以24小時制表示，例如23:15)')\n",
        "    bh1 = int(input('幾點:')) #定義「幾點入睡」為輸入值，並轉為整數\n",
        "    bm1 = int(input('幾分:')) #定義「幾分入睡」為輸入值，並轉為整數\n",
        "\n",
        "    print('\\n今天約幾點幾分起床？(例如08:10)')\n",
        "    wh1 = int(input('幾點:')) #定義「幾點起床」為輸入值，並轉為整數\n",
        "    wm1 = int(input('幾分:')) #定義「幾分起床」為輸入值，並轉為整數\n",
        "\n",
        "    sh1= int(24-bh1+wh1) #定義總睡眠小時為整數，計算公式為24減去幾點入睡，加上幾點起床\n",
        "    sm1= int(60-bm1+wm1)  #定義總睡眠分鐘為整數，計算公式為60減去幾分入睡，加上幾點起床\n",
        "\n",
        "    if(sm1>60):  \n",
        "        sh1+=int(sm1/60)  #如果總睡眠分鐘大於60，每60分鐘進位成一小時\n",
        "        sm1-=60            #「總睡眠分鐘」減去進位成一小時的部分\n",
        "        screenlist.append(screen1)  #並在「螢幕時間」串列的尾端，加上新元素「手機使用時間」\n",
        "        workoutlist.append(workout) #並在「運動時間」串列的尾端，加上新元素「運動時數」\n",
        "        sleeplist.append(str(sh1)) #並在「睡眠時間」串列的尾端，加上新元素「總睡眠時數」，並轉換為字串\n",
        "        print('\\n現在替您計算睡眠時數...\\n')\n",
        "        print('{}睡眠時數為:{}小時{}分鐘'.format(i,sh1,sm1)) #列印總睡眠時數，格式化參數sh1,sm1\n",
        "\n",
        "    else:           #如果「總睡眠分鐘」小於60\n",
        "            screenlist.append(screen1)\n",
        "            workoutlist.append(workout)\n",
        "            sleeplist.append(int(sh1))\n",
        "            print('\\n現在替您計算睡眠時數...\\n')\n",
        "            print('{}睡眠時數為:{}小時{}分鐘'.format(i,sh1,sm1)) #列印總睡眠時數，格式化參數sh1,sm1\n",
        "\n",
        " #柱狀圖繪製\n",
        "\n",
        "width=0.4   #宣告變數「寬度」為0.4\n",
        "x = [1,3,5,7,9,11,13]  #宣告x串列，之後將作為「手機使用時間」柱狀圖x軸的點\n",
        "x2 = [1.4,3.4,5.4,7.4,9.4,11.4,13.4]  #宣告x2串列，之後將作為「睡眠時數」柱狀圖x軸的點\n",
        "y=[0,2,4,6,8,10,12,14,16,18,20,22,24]  #宣告y串列，之後將作為柱狀圖表y軸的點\n",
        "x3 =[1.8,3.8,5.8,7.8,9.8,11.8,13.8] #宣告x3串列，之後將作為「運動時數」柱狀圖x軸的點\n",
        "\n",
        "bar1=plt.bar(x , screenlist , width , color='g', label='Screen Time') #「手機使用時間」柱狀圖 （x軸值,y軸高度,柱體寬度,顏色：綠）               \n",
        "bar2=plt.bar(x2 , sleeplist, width ,color = 'r',label = 'Sleep Time') #「睡眠時間」柱狀圖 （x軸值,y軸高度,柱體寬度,顏色：紅）\n",
        "bar3=plt.bar(x3 , workoutlist, width ,color = 'c',label = 'workout') #「運動時間」柱狀圖 （x軸值,y軸高度,柱體寬度,顏色：淺藍）\n",
        "\n",
        "plt.xlim(0,14)   #設定x座標範圍，從0到14\n",
        "plt.ylim(0,24)   #設定y座標範圍，從0到24\n",
        "plt.xticks(x,days) #設定x軸上的標示點及標示名稱\n",
        "plt.yticks(y,y) #設定y軸上的標示點及標示名稱\n",
        "plt.ylabel('Time') #設定y軸代表的東西：時間\n",
        "plt.title('Healthy Habit Tracker') #設定圖表的主題：健康生活習慣追蹤器\n",
        "plt.legend(bbox_to_anchor=(0.3,1), loc='upper left') #設定圖示框的位置\n",
        "print ('開始製作本週的健康生活柱狀圖...')\n",
        "plt.show()   #顯示圖表\n",
        "   "
      ]
    },
    {
      "cell_type": "code",
      "execution_count": null,
      "metadata": {
        "id": "kBaPeQQtbYQO"
      },
      "outputs": [],
      "source": []
    }
  ],
  "metadata": {
    "kernelspec": {
      "display_name": "Python 3",
      "language": "python",
      "name": "python3"
    },
    "language_info": {
      "codemirror_mode": {
        "name": "ipython",
        "version": 3
      },
      "file_extension": ".py",
      "mimetype": "text/x-python",
      "name": "python",
      "nbconvert_exporter": "python",
      "pygments_lexer": "ipython3",
      "version": "3.8.5"
    },
    "colab": {
      "provenance": [],
      "include_colab_link": true
    }
  },
  "nbformat": 4,
  "nbformat_minor": 0
}