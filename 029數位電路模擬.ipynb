{
  "nbformat": 4,
  "nbformat_minor": 0,
  "metadata": {
    "colab": {
      "provenance": [],
      "authorship_tag": "ABX9TyNMEUIYIVH59NahqFfBpnWT",
      "include_colab_link": true
    },
    "kernelspec": {
      "name": "python3",
      "display_name": "Python 3"
    },
    "language_info": {
      "name": "python"
    }
  },
  "cells": [
    {
      "cell_type": "markdown",
      "metadata": {
        "id": "view-in-github",
        "colab_type": "text"
      },
      "source": [
        "<a href=\"https://colab.research.google.com/github/max1nehour/Python_Projects/blob/main/029%E6%95%B8%E4%BD%8D%E9%9B%BB%E8%B7%AF%E6%A8%A1%E6%93%AC.ipynb\" target=\"_parent\"><img src=\"https://colab.research.google.com/assets/colab-badge.svg\" alt=\"Open In Colab\"/></a>"
      ]
    },
    {
      "cell_type": "code",
      "execution_count": null,
      "metadata": {
        "colab": {
          "base_uri": "https://localhost:8080/"
        },
        "id": "g9cGXitDZdaR",
        "outputId": "4745583c-e25c-4da0-d8cc-534e54771ca7"
      },
      "outputs": [
        {
          "output_type": "stream",
          "name": "stdout",
          "text": [
            "00000000 \n",
            "0\n",
            "11111111\n",
            "-1\n",
            "0000\n",
            "1000\n"
          ]
        }
      ],
      "source": [
        "def feedback_circuit(input_binary):\n",
        "    count = 0\n",
        "    while int(input_binary, 2) > 1:\n",
        "        count += 1\n",
        "        if int(input_binary[-1]) % 2 == 0:\n",
        "            input_binary = bin(int(input_binary, 2) // 2)[2:].zfill(8)\n",
        "        else:\n",
        "            input_binary = bin((int(input_binary, 2) + 1) // 2)[2:].zfill(8)\n",
        "    return bin(count)[2:].zfill(4)\n",
        "\n",
        "def main():\n",
        "    test_cases = []\n",
        "    while True:\n",
        "        test_case = input()\n",
        "        if test_case == '-1':\n",
        "            break\n",
        "        test_cases.append(test_case)\n",
        "\n",
        "    for i in range(0, len(test_cases), 2):\n",
        "        input_binary = test_cases[i]\n",
        "        result = feedback_circuit(input_binary)\n",
        "        print(result)\n",
        "\n",
        "if __name__ == \"__main__\":\n",
        "    main()\n"
      ]
    }
  ]
}