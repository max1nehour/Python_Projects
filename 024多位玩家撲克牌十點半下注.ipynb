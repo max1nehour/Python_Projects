{
  "nbformat": 4,
  "nbformat_minor": 0,
  "metadata": {
    "colab": {
      "provenance": [],
      "authorship_tag": "ABX9TyNerGQGz96W/VR0x81hsY8H",
      "include_colab_link": true
    },
    "kernelspec": {
      "name": "python3",
      "display_name": "Python 3"
    },
    "language_info": {
      "name": "python"
    }
  },
  "cells": [
    {
      "cell_type": "markdown",
      "metadata": {
        "id": "view-in-github",
        "colab_type": "text"
      },
      "source": [
        "<a href=\"https://colab.research.google.com/github/max1nehour/Python_Projects/blob/main/024%E5%A4%9A%E4%BD%8D%E7%8E%A9%E5%AE%B6%E6%92%B2%E5%85%8B%E7%89%8C%E5%8D%81%E9%BB%9E%E5%8D%8A%E4%B8%8B%E6%B3%A8.ipynb\" target=\"_parent\"><img src=\"https://colab.research.google.com/assets/colab-badge.svg\" alt=\"Open In Colab\"/></a>"
      ]
    },
    {
      "cell_type": "code",
      "source": [
        "\n",
        "n = int(input())\n",
        "bet = str(input())\n",
        "bet = bet.split(\" \")\n",
        "cards = str(input())\n",
        "cards = cards.split(\" \")\n",
        "cardlist=[[cards[i]]for i in range(n+1)]\n",
        "print(cardlist)\n",
        "#bet = [2,10,5]\n",
        "#cards=[3,Q,3,10]"
      ],
      "metadata": {
        "colab": {
          "base_uri": "https://localhost:8080/"
        },
        "id": "jsSEJvmsLzwJ",
        "outputId": "763f88d0-f489-4824-978e-ee87fbf57746"
      },
      "execution_count": null,
      "outputs": [
        {
          "output_type": "stream",
          "name": "stdout",
          "text": [
            "3\n",
            "2 10 5\n",
            "3 Q 3 10\n",
            "[['3'], ['Q'], ['3'], ['10']]\n"
          ]
        }
      ]
    },
    {
      "cell_type": "code",
      "source": [
        "#def\n",
        "def transpoint(list):\n",
        "    dict= {'2': 2, '3': 3, '4': 4, '5': 5, '6': 6, '7': 7, '8': 8, '9': 9, '10': 10, 'J': 0.5, 'Q': 0.5, 'K': 0.5, 'A': 1}\n",
        "    for i in range (len(list)):\n",
        "      for j in range(len(list[i])):\n",
        "        list[i][j]= dict.get(list[i][j])\n",
        "    print(list)\n",
        "\n",
        "def sumpoint(list):\n",
        "  pointlist = []\n",
        "  for i in range (len(list)):\n",
        "      point =0\n",
        "      for j in range(len(list[i])):\n",
        "        point+=int(list[i][j])\n",
        "      pointlist.append(point)\n",
        "  #print(pointlist)\n",
        "  return pointlist\n",
        "board={}\n",
        "def losemoney(i,bet,board):\n",
        "    #board={}\n",
        "    tmp= '-'+str(bet[i])\n",
        "    board.update({i: tmp})\n",
        "    return board\n",
        "\n",
        "def winmoney(i,bet,board):\n",
        "    #board={}\n",
        "    tmp= '+'+str(bet[i])\n",
        "    board.update({i: tmp})\n",
        "    return board\n",
        "\n",
        "def compmoney(board):\n",
        "  tmp=0\n",
        "  for x in board:\n",
        "    tmp+=int(board[x])\n",
        "  board.update({'h': -tmp})\n",
        "\n",
        "def printboard(b,n):\n",
        "  l = list(b.values())\n",
        "  for i in range(1,len(l)):\n",
        "      if i !=n:\n",
        "        tmp= 'Player'+str(i)\n",
        "        print('{} {}'.format(tmp,l[i]),end=\"\")\n",
        "      else:\n",
        "        print('Computer {}'.format(l[0]))"
      ],
      "metadata": {
        "id": "txTLpKWHL4wk"
      },
      "execution_count": null,
      "outputs": []
    },
    {
      "cell_type": "code",
      "source": [
        "n=3\n",
        "bet=[1,4,5]\n",
        "cardlist = [['A','2','J'],['3','6','A'],['A','2','J']]\n",
        "transpoint(cardlist)\n",
        "losemoney(1,bet,board)\n",
        "winmoney(2,bet,board)\n",
        "print(int(board[1]))\n",
        "\n",
        "pointlist =sumpoint(cardlist)\n",
        "print(pointlist)\n",
        "print(max(pointlist))\n",
        "print(min(pointlist))\n",
        "\n",
        "compmoney(board)\n",
        "print(board)\n",
        "printboard(board,n)"
      ],
      "metadata": {
        "colab": {
          "base_uri": "https://localhost:8080/"
        },
        "id": "c5JPB-0VLywc",
        "outputId": "a0da82cf-665c-47a5-d485-21583c88d3ad"
      },
      "execution_count": null,
      "outputs": [
        {
          "output_type": "stream",
          "name": "stdout",
          "text": [
            "[[1, 2, 0.5], [3, 6, 1], [1, 2, 0.5]]\n",
            "-4\n",
            "[3.5, 10, 3.5]\n",
            "10\n",
            "3.5\n",
            "{1: '-4', 2: '+5', 'h': -1}\n",
            "Player1 +5Player2 -1"
          ]
        }
      ]
    },
    {
      "cell_type": "code",
      "execution_count": null,
      "metadata": {
        "colab": {
          "base_uri": "https://localhost:8080/",
          "height": 411
        },
        "id": "yOSknYI3Lv7X",
        "outputId": "4e219920-8d8d-4468-af35-df5e3ced5822"
      },
      "outputs": [
        {
          "output_type": "stream",
          "name": "stdout",
          "text": [
            "Y 2\n",
            "[[None], [None, None, None, 2], [None], [None]]\n"
          ]
        },
        {
          "output_type": "error",
          "ename": "TypeError",
          "evalue": "ignored",
          "traceback": [
            "\u001b[0;31m---------------------------------------------------------------------------\u001b[0m",
            "\u001b[0;31mTypeError\u001b[0m                                 Traceback (most recent call last)",
            "\u001b[0;32m<ipython-input-97-8491c6aca9ae>\u001b[0m in \u001b[0;36m<cell line: 4>\u001b[0;34m()\u001b[0m\n\u001b[1;32m     17\u001b[0m \u001b[0;34m\u001b[0m\u001b[0m\n\u001b[1;32m     18\u001b[0m         \u001b[0mtranspoint\u001b[0m\u001b[0;34m(\u001b[0m\u001b[0mcardlist\u001b[0m\u001b[0;34m)\u001b[0m\u001b[0;34m\u001b[0m\u001b[0;34m\u001b[0m\u001b[0m\n\u001b[0;32m---> 19\u001b[0;31m         \u001b[0msumpoint\u001b[0m\u001b[0;34m(\u001b[0m\u001b[0mcardlist\u001b[0m\u001b[0;34m)\u001b[0m\u001b[0;34m\u001b[0m\u001b[0;34m\u001b[0m\u001b[0m\n\u001b[0m\u001b[1;32m     20\u001b[0m \u001b[0;34m\u001b[0m\u001b[0m\n\u001b[1;32m     21\u001b[0m         \u001b[0;32mif\u001b[0m \u001b[0mpointlist\u001b[0m\u001b[0;34m[\u001b[0m\u001b[0mi\u001b[0m\u001b[0;34m]\u001b[0m\u001b[0;34m>\u001b[0m\u001b[0;36m10.5\u001b[0m\u001b[0;34m:\u001b[0m \u001b[0;31m#player lose\u001b[0m\u001b[0;34m\u001b[0m\u001b[0;34m\u001b[0m\u001b[0m\n",
            "\u001b[0;32m<ipython-input-96-40bb9f6cb19c>\u001b[0m in \u001b[0;36msumpoint\u001b[0;34m(list)\u001b[0m\n\u001b[1;32m     12\u001b[0m       \u001b[0mpoint\u001b[0m \u001b[0;34m=\u001b[0m\u001b[0;36m0\u001b[0m\u001b[0;34m\u001b[0m\u001b[0;34m\u001b[0m\u001b[0m\n\u001b[1;32m     13\u001b[0m       \u001b[0;32mfor\u001b[0m \u001b[0mj\u001b[0m \u001b[0;32min\u001b[0m \u001b[0mrange\u001b[0m\u001b[0;34m(\u001b[0m\u001b[0mlen\u001b[0m\u001b[0;34m(\u001b[0m\u001b[0mlist\u001b[0m\u001b[0;34m[\u001b[0m\u001b[0mi\u001b[0m\u001b[0;34m]\u001b[0m\u001b[0;34m)\u001b[0m\u001b[0;34m)\u001b[0m\u001b[0;34m:\u001b[0m\u001b[0;34m\u001b[0m\u001b[0;34m\u001b[0m\u001b[0m\n\u001b[0;32m---> 14\u001b[0;31m         \u001b[0mpoint\u001b[0m\u001b[0;34m+=\u001b[0m\u001b[0mint\u001b[0m\u001b[0;34m(\u001b[0m\u001b[0mlist\u001b[0m\u001b[0;34m[\u001b[0m\u001b[0mi\u001b[0m\u001b[0;34m]\u001b[0m\u001b[0;34m[\u001b[0m\u001b[0mj\u001b[0m\u001b[0;34m]\u001b[0m\u001b[0;34m)\u001b[0m\u001b[0;34m\u001b[0m\u001b[0;34m\u001b[0m\u001b[0m\n\u001b[0m\u001b[1;32m     15\u001b[0m       \u001b[0mpointlist\u001b[0m\u001b[0;34m.\u001b[0m\u001b[0mappend\u001b[0m\u001b[0;34m(\u001b[0m\u001b[0mpoint\u001b[0m\u001b[0;34m)\u001b[0m\u001b[0;34m\u001b[0m\u001b[0;34m\u001b[0m\u001b[0m\n\u001b[1;32m     16\u001b[0m   \u001b[0;31m#print(pointlist)\u001b[0m\u001b[0;34m\u001b[0m\u001b[0;34m\u001b[0m\u001b[0m\n",
            "\u001b[0;31mTypeError\u001b[0m: int() argument must be a string, a bytes-like object or a real number, not 'NoneType'"
          ]
        }
      ],
      "source": [
        "\n",
        "#start ask for cards\n",
        "\n",
        "#players\n",
        "for i in range(1,n+1):\n",
        "    x=0\n",
        "    while x ==0:\n",
        "        #print(i)\n",
        "        ask = str(input())\n",
        "        ask = ask.split(\" \") #ask= [Y,2]or[N]\n",
        "        permit = ask[0]\n",
        "\n",
        "        if permit=='N':\n",
        "            x+=1\n",
        "        else:\n",
        "            newcard = ask[1]\n",
        "            cardlist[i].append(newcard)\n",
        "\n",
        "        transpoint(cardlist)\n",
        "        sumpoint(cardlist)\n",
        "\n",
        "        if pointlist[i]>10.5: #player lose\n",
        "            losemoney(i,bet)\n",
        "            pointlist[i]='0'\n",
        "            x+=1\n",
        "        elif pointlist[i]==10.5: #player won\n",
        "            winmoney(i,bet)\n",
        "            compmoney(board)\n",
        "            x+=1\n",
        "    c=0\n",
        "    print(cardlist)\n",
        "\n",
        "while c ==0:\n",
        "  pointlist.remove('0')\n",
        "  if pointlist[0]< min(pointlist):\n",
        "    compcard = str(input())\n",
        "    cardlist[i].append(compcard)\n",
        "    transpoint(cardlist)\n",
        "    sumpoint(cardlist)\n",
        "  elif pointlist[0]> min(pointlist):\n",
        "    c=1\n",
        "\n",
        "print()"
      ]
    },
    {
      "cell_type": "code",
      "source": [],
      "metadata": {
        "id": "07X5_WLySMQn"
      },
      "execution_count": null,
      "outputs": []
    }
  ]
}