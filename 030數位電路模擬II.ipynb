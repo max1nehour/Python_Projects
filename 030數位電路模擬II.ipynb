{
  "nbformat": 4,
  "nbformat_minor": 0,
  "metadata": {
    "colab": {
      "provenance": [],
      "authorship_tag": "ABX9TyOwWRW30ntzZNaINPsl4dsT",
      "include_colab_link": true
    },
    "kernelspec": {
      "name": "python3",
      "display_name": "Python 3"
    },
    "language_info": {
      "name": "python"
    }
  },
  "cells": [
    {
      "cell_type": "markdown",
      "metadata": {
        "id": "view-in-github",
        "colab_type": "text"
      },
      "source": [
        "<a href=\"https://colab.research.google.com/github/max1nehour/Python_Projects/blob/main/030%E6%95%B8%E4%BD%8D%E9%9B%BB%E8%B7%AF%E6%A8%A1%E6%93%ACII.ipynb\" target=\"_parent\"><img src=\"https://colab.research.google.com/assets/colab-badge.svg\" alt=\"Open In Colab\"/></a>"
      ]
    },
    {
      "cell_type": "code",
      "execution_count": null,
      "metadata": {
        "id": "lgzDJosmErRE"
      },
      "outputs": [],
      "source": [
        "def feedback_circuit(N):\n",
        "    count = 0\n",
        "    while N > 1:\n",
        "        count += 1\n",
        "        if N % 2 == 0:\n",
        "            N = N // 2\n",
        "        else:\n",
        "            N = (N + 1) // 2\n",
        "    return count\n",
        "\n",
        "def total_feedback_count(N):\n",
        "    total_count = 0\n",
        "    for i in range(N + 1):\n",
        "        total_count += feedback_circuit(i)\n",
        "    return total_count\n",
        "\n",
        "def main():\n",
        "    while True:\n",
        "        N = input()\n",
        "        if N == '-1':\n",
        "            break\n",
        "        N = int(N, 2)\n",
        "        total_count = total_feedback_count(N)\n",
        "        result = bin(total_count)[2:].zfill(14)\n",
        "        print(result)\n",
        "\n",
        "if __name__ == \"__main__\":\n",
        "    main()\n"
      ]
    }
  ]
}